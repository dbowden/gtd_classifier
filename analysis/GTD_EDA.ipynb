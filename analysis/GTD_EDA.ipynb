{
 "cells": [
  {
   "cell_type": "markdown",
   "id": "material-reality",
   "metadata": {},
   "source": [
    "# Attack Classifier\n",
    "\n",
    "This project will apply machine learning classification to the problem of attributing terrorist attacks to perpetrators. The Global Terrorism Database (GTD) contains many events that lack a definitive attribution. Machine learning should be able to use attack attributes to predict with varying degrees of confidence which group perpetrated these unattributed attacks. The ACLED database has many fewer unattributed events, and thus should provide a reasonable amount of validation."
   ]
  },
  {
   "cell_type": "code",
   "execution_count": 1,
   "id": "major-pakistan",
   "metadata": {},
   "outputs": [],
   "source": [
    "%config InlineBackend.figure_format = 'retina'\n",
    "import pandas as pd"
   ]
  },
  {
   "cell_type": "code",
   "execution_count": 4,
   "id": "theoretical-delta",
   "metadata": {},
   "outputs": [],
   "source": [
    "gtd = pd.read_csv('../data/globalterrorismdb_0919dist.csv')"
   ]
  },
  {
   "cell_type": "code",
   "execution_count": 5,
   "id": "tutorial-advertising",
   "metadata": {},
   "outputs": [
    {
     "output_type": "execute_result",
     "data": {
      "text/plain": [
       "   Unnamed: 0       eventid  iyear  imonth  iday approxdate  extended  \\\n",
       "0           0  197000000001   1970       7     2        NaN         0   \n",
       "1           1  197000000002   1970       0     0        NaN         0   \n",
       "2           2  197001000001   1970       1     0        NaN         0   \n",
       "3           3  197001000002   1970       1     0        NaN         0   \n",
       "4           4  197001000003   1970       1     0        NaN         0   \n",
       "\n",
       "  resolution  country         country_txt  ...  addnotes scite1 scite2 scite3  \\\n",
       "0        NaN       58  Dominican Republic  ...       NaN    NaN    NaN    NaN   \n",
       "1        NaN      130              Mexico  ...       NaN    NaN    NaN    NaN   \n",
       "2        NaN      160         Philippines  ...       NaN    NaN    NaN    NaN   \n",
       "3        NaN       78              Greece  ...       NaN    NaN    NaN    NaN   \n",
       "4        NaN      101               Japan  ...       NaN    NaN    NaN    NaN   \n",
       "\n",
       "   dbsource  INT_LOG  INT_IDEO  INT_MISC INT_ANY related  \n",
       "0      PGIS        0         0         0       0     NaN  \n",
       "1      PGIS        0         1         1       1     NaN  \n",
       "2      PGIS       -9        -9         1       1     NaN  \n",
       "3      PGIS       -9        -9         1       1     NaN  \n",
       "4      PGIS       -9        -9         1       1     NaN  \n",
       "\n",
       "[5 rows x 136 columns]"
      ],
      "text/html": "<div>\n<style scoped>\n    .dataframe tbody tr th:only-of-type {\n        vertical-align: middle;\n    }\n\n    .dataframe tbody tr th {\n        vertical-align: top;\n    }\n\n    .dataframe thead th {\n        text-align: right;\n    }\n</style>\n<table border=\"1\" class=\"dataframe\">\n  <thead>\n    <tr style=\"text-align: right;\">\n      <th></th>\n      <th>Unnamed: 0</th>\n      <th>eventid</th>\n      <th>iyear</th>\n      <th>imonth</th>\n      <th>iday</th>\n      <th>approxdate</th>\n      <th>extended</th>\n      <th>resolution</th>\n      <th>country</th>\n      <th>country_txt</th>\n      <th>...</th>\n      <th>addnotes</th>\n      <th>scite1</th>\n      <th>scite2</th>\n      <th>scite3</th>\n      <th>dbsource</th>\n      <th>INT_LOG</th>\n      <th>INT_IDEO</th>\n      <th>INT_MISC</th>\n      <th>INT_ANY</th>\n      <th>related</th>\n    </tr>\n  </thead>\n  <tbody>\n    <tr>\n      <th>0</th>\n      <td>0</td>\n      <td>197000000001</td>\n      <td>1970</td>\n      <td>7</td>\n      <td>2</td>\n      <td>NaN</td>\n      <td>0</td>\n      <td>NaN</td>\n      <td>58</td>\n      <td>Dominican Republic</td>\n      <td>...</td>\n      <td>NaN</td>\n      <td>NaN</td>\n      <td>NaN</td>\n      <td>NaN</td>\n      <td>PGIS</td>\n      <td>0</td>\n      <td>0</td>\n      <td>0</td>\n      <td>0</td>\n      <td>NaN</td>\n    </tr>\n    <tr>\n      <th>1</th>\n      <td>1</td>\n      <td>197000000002</td>\n      <td>1970</td>\n      <td>0</td>\n      <td>0</td>\n      <td>NaN</td>\n      <td>0</td>\n      <td>NaN</td>\n      <td>130</td>\n      <td>Mexico</td>\n      <td>...</td>\n      <td>NaN</td>\n      <td>NaN</td>\n      <td>NaN</td>\n      <td>NaN</td>\n      <td>PGIS</td>\n      <td>0</td>\n      <td>1</td>\n      <td>1</td>\n      <td>1</td>\n      <td>NaN</td>\n    </tr>\n    <tr>\n      <th>2</th>\n      <td>2</td>\n      <td>197001000001</td>\n      <td>1970</td>\n      <td>1</td>\n      <td>0</td>\n      <td>NaN</td>\n      <td>0</td>\n      <td>NaN</td>\n      <td>160</td>\n      <td>Philippines</td>\n      <td>...</td>\n      <td>NaN</td>\n      <td>NaN</td>\n      <td>NaN</td>\n      <td>NaN</td>\n      <td>PGIS</td>\n      <td>-9</td>\n      <td>-9</td>\n      <td>1</td>\n      <td>1</td>\n      <td>NaN</td>\n    </tr>\n    <tr>\n      <th>3</th>\n      <td>3</td>\n      <td>197001000002</td>\n      <td>1970</td>\n      <td>1</td>\n      <td>0</td>\n      <td>NaN</td>\n      <td>0</td>\n      <td>NaN</td>\n      <td>78</td>\n      <td>Greece</td>\n      <td>...</td>\n      <td>NaN</td>\n      <td>NaN</td>\n      <td>NaN</td>\n      <td>NaN</td>\n      <td>PGIS</td>\n      <td>-9</td>\n      <td>-9</td>\n      <td>1</td>\n      <td>1</td>\n      <td>NaN</td>\n    </tr>\n    <tr>\n      <th>4</th>\n      <td>4</td>\n      <td>197001000003</td>\n      <td>1970</td>\n      <td>1</td>\n      <td>0</td>\n      <td>NaN</td>\n      <td>0</td>\n      <td>NaN</td>\n      <td>101</td>\n      <td>Japan</td>\n      <td>...</td>\n      <td>NaN</td>\n      <td>NaN</td>\n      <td>NaN</td>\n      <td>NaN</td>\n      <td>PGIS</td>\n      <td>-9</td>\n      <td>-9</td>\n      <td>1</td>\n      <td>1</td>\n      <td>NaN</td>\n    </tr>\n  </tbody>\n</table>\n<p>5 rows × 136 columns</p>\n</div>"
     },
     "metadata": {},
     "execution_count": 5
    }
   ],
   "source": [
    "gtd.head()"
   ]
  },
  {
   "cell_type": "code",
   "execution_count": 6,
   "id": "prescribed-companion",
   "metadata": {},
   "outputs": [
    {
     "output_type": "stream",
     "name": "stdout",
     "text": [
      "<class 'pandas.core.frame.DataFrame'>\nRangeIndex: 191464 entries, 0 to 191463\nColumns: 136 entries, Unnamed: 0 to related\ndtypes: float64(53), int64(25), object(58)\nmemory usage: 198.7+ MB\n"
     ]
    }
   ],
   "source": [
    "gtd.info()"
   ]
  },
  {
   "cell_type": "code",
   "execution_count": 7,
   "id": "offshore-characteristic",
   "metadata": {},
   "outputs": [
    {
     "output_type": "execute_result",
     "data": {
      "text/plain": [
       "2018"
      ]
     },
     "metadata": {},
     "execution_count": 7
    }
   ],
   "source": [
    "gtd['iyear'].max()"
   ]
  },
  {
   "cell_type": "code",
   "execution_count": 8,
   "id": "civic-cooperation",
   "metadata": {},
   "outputs": [
    {
     "output_type": "execute_result",
     "data": {
      "text/plain": [
       "Iraq                   26057\n",
       "Pakistan               14847\n",
       "Afghanistan            14509\n",
       "India                  12853\n",
       "Colombia                8515\n",
       "                       ...  \n",
       "South Vietnam              1\n",
       "International              1\n",
       "Andorra                    1\n",
       "St. Lucia                  1\n",
       "Antigua and Barbuda        1\n",
       "Name: country_txt, Length: 205, dtype: int64"
      ]
     },
     "metadata": {},
     "execution_count": 8
    }
   ],
   "source": [
    "gtd['country_txt'].value_counts()"
   ]
  },
  {
   "cell_type": "code",
   "execution_count": 9,
   "id": "loose-pattern",
   "metadata": {},
   "outputs": [
    {
     "output_type": "execute_result",
     "data": {
      "text/plain": [
       "Unknown                                        19233\n",
       "Islamic State of Iraq and the Levant (ISIL)     5486\n",
       "Al-Qaida in Iraq                                 632\n",
       "Islamic State of Iraq (ISI)                      145\n",
       "Asa'ib Ahl al-Haqq                                71\n",
       "                                               ...  \n",
       "Anbar Salvation Council                            1\n",
       "Jihadist Soldiers                                  1\n",
       "Ansar al-Jihad                                     1\n",
       "Kurdish Peshmerga Guerrillas                       1\n",
       "Barzani Guerrillas                                 1\n",
       "Name: gname, Length: 102, dtype: int64"
      ]
     },
     "metadata": {},
     "execution_count": 9
    }
   ],
   "source": [
    "gtd[gtd['country_txt'] == 'Iraq']['gname'].value_counts()"
   ]
  },
  {
   "cell_type": "code",
   "execution_count": 10,
   "id": "adjustable-secondary",
   "metadata": {},
   "outputs": [
    {
     "output_type": "execute_result",
     "data": {
      "text/plain": [
       "45"
      ]
     },
     "metadata": {},
     "execution_count": 10
    }
   ],
   "source": [
    "gtd[gtd['country_txt'] == 'Afghanistan']['gname'].nunique()"
   ]
  },
  {
   "cell_type": "code",
   "execution_count": 11,
   "id": "subsequent-origin",
   "metadata": {},
   "outputs": [
    {
     "output_type": "execute_result",
     "data": {
      "text/plain": [
       "Taliban                                                                                 8671\n",
       "Unknown                                                                                 5220\n",
       "Khorasan Chapter of the Islamic State                                                    357\n",
       "Haqqani Network                                                                           85\n",
       "Hizb-I-Islami                                                                             42\n",
       "Al-Qaida                                                                                  20\n",
       "Tehrik-i-Taliban Pakistan (TTP)                                                           15\n",
       "Gunmen                                                                                     9\n",
       "Afghan Guerrillas                                                                          7\n",
       "Afghan Mujahideen                                                                          7\n",
       "Guerrillas                                                                                 6\n",
       "The Northern Alliance (or United Islamic Front for Salvation of Afghanistan - UIFSA)       5\n",
       "Hezb-e Wahdat-e Islami-yi Afghanistan                                                      5\n",
       "Opposition Group                                                                           5\n",
       "Mahaz Fedai Tahrik Islami Afghanistan                                                      5\n",
       "Militants                                                                                  4\n",
       "Muslim extremists                                                                          3\n",
       "Muslim Militants                                                                           3\n",
       "Insurgents                                                                                 3\n",
       "Jamiat-e Islami-yi Afghanistan                                                             3\n",
       "Islamic Movement of Uzbekistan (IMU)                                                       2\n",
       "Khorasan jihadi group                                                                      2\n",
       "Afghan Rebels                                                                              2\n",
       "Islamist extremists                                                                        2\n",
       "Muslim Guerrillas                                                                          2\n",
       "Lashkar-e-Taiba (LeT)                                                                      2\n",
       "Jaish al-Muslimin (Army of the Muslims)                                                    2\n",
       "Lashkar-e-Jhangvi                                                                          2\n",
       "Anti-United States extremists                                                              2\n",
       "Jaish-e-Mohammad (JeM)                                                                     1\n",
       "Gholam Yahya Akbar                                                                         1\n",
       "Tela Mohammed                                                                              1\n",
       "Haji Fateh                                                                                 1\n",
       "Al-Fatah                                                                                   1\n",
       "Shinwari Tribe                                                                             1\n",
       "Saif-ul-Muslimeen                                                                          1\n",
       "Mahaz-e-Milli Islami Afghanistan                                                           1\n",
       "Ittehad-i-Islami                                                                           1\n",
       "Harakat-i-Inqilahi-i-Islami                                                                1\n",
       "Black December                                                                             1\n",
       "Jundallah (Pakistan)                                                                       1\n",
       "Najib Watan Party Faction                                                                  1\n",
       "Nahzat e Eslami                                                                            1\n",
       "Mullah Dadullah Front                                                                      1\n",
       "Shia Muslim extremists                                                                     1\n",
       "Name: gname, dtype: int64"
      ]
     },
     "metadata": {},
     "execution_count": 11
    }
   ],
   "source": [
    "gtd[gtd['country_txt'] == 'Afghanistan']['gname'].value_counts()"
   ]
  },
  {
   "cell_type": "markdown",
   "id": "careful-ethernet",
   "metadata": {},
   "source": [
    "Afghanistan seems like a suitable choice. There is a large number of events for training the model. The number of classes is more manageable than many countries with lots of attacks."
   ]
  },
  {
   "cell_type": "markdown",
   "id": "developmental-soviet",
   "metadata": {},
   "source": [
    "# Afghanistan"
   ]
  },
  {
   "cell_type": "markdown",
   "id": "fabulous-assault",
   "metadata": {},
   "source": [
    "## Create Testing Set of Unattributed Attacks"
   ]
  },
  {
   "cell_type": "markdown",
   "id": "transsexual-martin",
   "metadata": {},
   "source": [
    "First we'll extract the unknown and generic perpetrators to serve as a testing set."
   ]
  },
  {
   "cell_type": "code",
   "execution_count": 12,
   "id": "korean-stylus",
   "metadata": {},
   "outputs": [
    {
     "output_type": "execute_result",
     "data": {
      "text/plain": [
       "       Unnamed: 0       eventid  iyear  imonth  iday approxdate  extended  \\\n",
       "7627         7627  197902140010   1979       2    14        NaN         0   \n",
       "9156         9156  197908270005   1979       8    27        NaN         0   \n",
       "9218         9218  197909090001   1979       9     9        NaN         0   \n",
       "33929       33929  198803270001   1988       3    27        NaN         0   \n",
       "34063       34063  198804100009   1988       4    10        NaN         0   \n",
       "\n",
       "      resolution  country  country_txt  ...  addnotes scite1 scite2 scite3  \\\n",
       "7627         NaN        4  Afghanistan  ...       NaN    NaN    NaN    NaN   \n",
       "9156         NaN        4  Afghanistan  ...       NaN    NaN    NaN    NaN   \n",
       "9218         NaN        4  Afghanistan  ...       NaN    NaN    NaN    NaN   \n",
       "33929        NaN        4  Afghanistan  ...       NaN    NaN    NaN    NaN   \n",
       "34063        NaN        4  Afghanistan  ...       NaN    NaN    NaN    NaN   \n",
       "\n",
       "       dbsource  INT_LOG  INT_IDEO  INT_MISC INT_ANY related  \n",
       "7627       PGIS       -9        -9         1       1     NaN  \n",
       "9156       PGIS       -9        -9         0      -9     NaN  \n",
       "9218       PGIS       -9        -9        -9      -9     NaN  \n",
       "33929      PGIS        0         1         1       1     NaN  \n",
       "34063      PGIS       -9        -9         0      -9     NaN  \n",
       "\n",
       "[5 rows x 136 columns]"
      ],
      "text/html": "<div>\n<style scoped>\n    .dataframe tbody tr th:only-of-type {\n        vertical-align: middle;\n    }\n\n    .dataframe tbody tr th {\n        vertical-align: top;\n    }\n\n    .dataframe thead th {\n        text-align: right;\n    }\n</style>\n<table border=\"1\" class=\"dataframe\">\n  <thead>\n    <tr style=\"text-align: right;\">\n      <th></th>\n      <th>Unnamed: 0</th>\n      <th>eventid</th>\n      <th>iyear</th>\n      <th>imonth</th>\n      <th>iday</th>\n      <th>approxdate</th>\n      <th>extended</th>\n      <th>resolution</th>\n      <th>country</th>\n      <th>country_txt</th>\n      <th>...</th>\n      <th>addnotes</th>\n      <th>scite1</th>\n      <th>scite2</th>\n      <th>scite3</th>\n      <th>dbsource</th>\n      <th>INT_LOG</th>\n      <th>INT_IDEO</th>\n      <th>INT_MISC</th>\n      <th>INT_ANY</th>\n      <th>related</th>\n    </tr>\n  </thead>\n  <tbody>\n    <tr>\n      <th>7627</th>\n      <td>7627</td>\n      <td>197902140010</td>\n      <td>1979</td>\n      <td>2</td>\n      <td>14</td>\n      <td>NaN</td>\n      <td>0</td>\n      <td>NaN</td>\n      <td>4</td>\n      <td>Afghanistan</td>\n      <td>...</td>\n      <td>NaN</td>\n      <td>NaN</td>\n      <td>NaN</td>\n      <td>NaN</td>\n      <td>PGIS</td>\n      <td>-9</td>\n      <td>-9</td>\n      <td>1</td>\n      <td>1</td>\n      <td>NaN</td>\n    </tr>\n    <tr>\n      <th>9156</th>\n      <td>9156</td>\n      <td>197908270005</td>\n      <td>1979</td>\n      <td>8</td>\n      <td>27</td>\n      <td>NaN</td>\n      <td>0</td>\n      <td>NaN</td>\n      <td>4</td>\n      <td>Afghanistan</td>\n      <td>...</td>\n      <td>NaN</td>\n      <td>NaN</td>\n      <td>NaN</td>\n      <td>NaN</td>\n      <td>PGIS</td>\n      <td>-9</td>\n      <td>-9</td>\n      <td>0</td>\n      <td>-9</td>\n      <td>NaN</td>\n    </tr>\n    <tr>\n      <th>9218</th>\n      <td>9218</td>\n      <td>197909090001</td>\n      <td>1979</td>\n      <td>9</td>\n      <td>9</td>\n      <td>NaN</td>\n      <td>0</td>\n      <td>NaN</td>\n      <td>4</td>\n      <td>Afghanistan</td>\n      <td>...</td>\n      <td>NaN</td>\n      <td>NaN</td>\n      <td>NaN</td>\n      <td>NaN</td>\n      <td>PGIS</td>\n      <td>-9</td>\n      <td>-9</td>\n      <td>-9</td>\n      <td>-9</td>\n      <td>NaN</td>\n    </tr>\n    <tr>\n      <th>33929</th>\n      <td>33929</td>\n      <td>198803270001</td>\n      <td>1988</td>\n      <td>3</td>\n      <td>27</td>\n      <td>NaN</td>\n      <td>0</td>\n      <td>NaN</td>\n      <td>4</td>\n      <td>Afghanistan</td>\n      <td>...</td>\n      <td>NaN</td>\n      <td>NaN</td>\n      <td>NaN</td>\n      <td>NaN</td>\n      <td>PGIS</td>\n      <td>0</td>\n      <td>1</td>\n      <td>1</td>\n      <td>1</td>\n      <td>NaN</td>\n    </tr>\n    <tr>\n      <th>34063</th>\n      <td>34063</td>\n      <td>198804100009</td>\n      <td>1988</td>\n      <td>4</td>\n      <td>10</td>\n      <td>NaN</td>\n      <td>0</td>\n      <td>NaN</td>\n      <td>4</td>\n      <td>Afghanistan</td>\n      <td>...</td>\n      <td>NaN</td>\n      <td>NaN</td>\n      <td>NaN</td>\n      <td>NaN</td>\n      <td>PGIS</td>\n      <td>-9</td>\n      <td>-9</td>\n      <td>0</td>\n      <td>-9</td>\n      <td>NaN</td>\n    </tr>\n  </tbody>\n</table>\n<p>5 rows × 136 columns</p>\n</div>"
     },
     "metadata": {},
     "execution_count": 12
    }
   ],
   "source": [
    "# the Afghan Mujahideen are a boderline case - they seem to have had some amount of organization during the Soviet invasion\n",
    "afg_generic = [\n",
    "    'Unknown',\n",
    "    'Gunmen',\n",
    "    'Afghan Guerrillas',\n",
    "    'Guerrillas',\n",
    "    'Opposition Group',\n",
    "    'Militants',\n",
    "    'Insurgents',\n",
    "    'Muslim extremists',\n",
    "    'Muslim Militants',\n",
    "    'Islamist extremists',\n",
    "    'Muslim Guerrillas',\n",
    "    'Anti-United States extremists',\n",
    "    'Afghan Rebels',\n",
    "    'Shia Muslim extremists'\n",
    "]\n",
    "\n",
    "afg_test = gtd[(gtd['country_txt'] == 'Afghanistan') & (gtd['gname'].isin(afg_generic))]\n",
    "\n",
    "afg_test.head()"
   ]
  },
  {
   "cell_type": "code",
   "execution_count": 13,
   "id": "coupled-productivity",
   "metadata": {},
   "outputs": [
    {
     "output_type": "execute_result",
     "data": {
      "text/plain": [
       "(5269, 136)"
      ]
     },
     "metadata": {},
     "execution_count": 13
    }
   ],
   "source": [
    "afg_test.shape"
   ]
  },
  {
   "cell_type": "code",
   "execution_count": 15,
   "id": "military-relation",
   "metadata": {},
   "outputs": [
    {
     "output_type": "execute_result",
     "data": {
      "text/plain": [
       "<AxesSubplot:>"
      ]
     },
     "metadata": {},
     "execution_count": 15
    },
    {
     "output_type": "display_data",
     "data": {
      "text/plain": "<Figure size 432x288 with 1 Axes>",
      "image/png": "[encoded data removed]"
     },
     "metadata": {
      "image/png": {
       "width": 381,
       "height": 248
      },
      "needs_background": "light"
     }
    }
   ],
   "source": [
    "afg_test['iyear'].hist()"
   ]
  },
  {
   "cell_type": "code",
   "execution_count": 16,
   "id": "sweet-suite",
   "metadata": {},
   "outputs": [
    {
     "output_type": "execute_result",
     "data": {
      "text/plain": [
       "False    4473\n",
       "True      796\n",
       "Name: iyear, dtype: int64"
      ]
     },
     "metadata": {},
     "execution_count": 16
    }
   ],
   "source": [
    "(afg_test['iyear'] > 2016).value_counts()"
   ]
  },
  {
   "cell_type": "markdown",
   "id": "considered-mechanism",
   "metadata": {},
   "source": [
    "There are 796 events that could potentially appear in ACLED, which covers Afghanistan for the period 2017-present. That seems like a reasonable sample size for external validation."
   ]
  },
  {
   "cell_type": "markdown",
   "id": "dominican-affiliate",
   "metadata": {},
   "source": [
    "## Construct Training and Validation Sets"
   ]
  },
  {
   "cell_type": "code",
   "execution_count": 17,
   "id": "south-english",
   "metadata": {},
   "outputs": [
    {
     "output_type": "execute_result",
     "data": {
      "text/plain": [
       "(9240, 136)"
      ]
     },
     "metadata": {},
     "execution_count": 17
    }
   ],
   "source": [
    "# extract Afg events that are not in the generic list\n",
    "afg_X = gtd[(gtd['country_txt'] == 'Afghanistan') & ~(gtd['gname'].isin(afg_generic))]\n",
    "\n",
    "afg_X.shape"
   ]
  },
  {
   "cell_type": "markdown",
   "id": "military-champagne",
   "metadata": {},
   "source": [
    "We have a significant class imbalance problem:"
   ]
  },
  {
   "cell_type": "code",
   "execution_count": 18,
   "id": "waiting-lending",
   "metadata": {},
   "outputs": [
    {
     "output_type": "execute_result",
     "data": {
      "text/plain": [
       "Taliban                                                                                 8671\n",
       "Khorasan Chapter of the Islamic State                                                    357\n",
       "Haqqani Network                                                                           85\n",
       "Hizb-I-Islami                                                                             42\n",
       "Al-Qaida                                                                                  20\n",
       "Tehrik-i-Taliban Pakistan (TTP)                                                           15\n",
       "Afghan Mujahideen                                                                          7\n",
       "The Northern Alliance (or United Islamic Front for Salvation of Afghanistan - UIFSA)       5\n",
       "Mahaz Fedai Tahrik Islami Afghanistan                                                      5\n",
       "Hezb-e Wahdat-e Islami-yi Afghanistan                                                      5\n",
       "Jamiat-e Islami-yi Afghanistan                                                             3\n",
       "Islamic Movement of Uzbekistan (IMU)                                                       2\n",
       "Lashkar-e-Jhangvi                                                                          2\n",
       "Lashkar-e-Taiba (LeT)                                                                      2\n",
       "Jaish al-Muslimin (Army of the Muslims)                                                    2\n",
       "Khorasan jihadi group                                                                      2\n",
       "Jundallah (Pakistan)                                                                       1\n",
       "Jaish-e-Mohammad (JeM)                                                                     1\n",
       "Harakat-i-Inqilahi-i-Islami                                                                1\n",
       "Mahaz-e-Milli Islami Afghanistan                                                           1\n",
       "Al-Fatah                                                                                   1\n",
       "Nahzat e Eslami                                                                            1\n",
       "Ittehad-i-Islami                                                                           1\n",
       "Mullah Dadullah Front                                                                      1\n",
       "Tela Mohammed                                                                              1\n",
       "Saif-ul-Muslimeen                                                                          1\n",
       "Shinwari Tribe                                                                             1\n",
       "Haji Fateh                                                                                 1\n",
       "Gholam Yahya Akbar                                                                         1\n",
       "Najib Watan Party Faction                                                                  1\n",
       "Black December                                                                             1\n",
       "Name: gname, dtype: int64"
      ]
     },
     "metadata": {},
     "execution_count": 18
    }
   ],
   "source": [
    "afg_X['gname'].value_counts()"
   ]
  },
  {
   "cell_type": "markdown",
   "id": "short-beads",
   "metadata": {},
   "source": [
    "Potential solutions include:\n",
    "- Combining categories\n",
    "- "
   ]
  },
  {
   "cell_type": "code",
   "execution_count": null,
   "id": "available-offering",
   "metadata": {},
   "outputs": [],
   "source": []
  }
 ],
 "metadata": {
  "kernelspec": {
   "display_name": "Python 3",
   "language": "python",
   "name": "python3"
  },
  "language_info": {
   "codemirror_mode": {
    "name": "ipython",
    "version": 3
   },
   "file_extension": ".py",
   "mimetype": "text/x-python",
   "name": "python",
   "nbconvert_exporter": "python",
   "pygments_lexer": "ipython3",
   "version": "3.8.5-final"
  },
  "toc-autonumbering": false,
  "toc-showcode": false,
  "toc-showmarkdowntxt": false
 },
 "nbformat": 4,
 "nbformat_minor": 5
}