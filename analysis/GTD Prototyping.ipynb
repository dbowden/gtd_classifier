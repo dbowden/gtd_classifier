{
 "cells": [
  {
   "cell_type": "markdown",
   "id": "foreign-kernel",
   "metadata": {},
   "source": [
    "# Attack Classifier\n",
    "\n",
    "This project will apply machine learning classification to the problem of attributing terrorist attacks to perpetrators. The Global Terrorism Database (GTD) contains many events that lack a definitive attribution. Machine learning should be able to use attack attributes to predict with varying degrees of confidence which group perpetrated these unattributed attacks. The ACLED database has many fewer unattributed events, and thus should provide a reasonable amount of validation."
   ]
  },
  {
   "cell_type": "code",
   "execution_count": 13,
   "id": "capable-watershed",
   "metadata": {},
   "outputs": [],
   "source": [
    "%config InlineBackend.figure_format = 'retina'\n",
    "import pandas as pd\n",
    "import numpy as np\n",
    "import matplotlib.pyplot as plt"
   ]
  },
  {
   "cell_type": "code",
   "execution_count": 14,
   "id": "abstract-stuart",
   "metadata": {},
   "outputs": [
    {
     "name": "stderr",
     "output_type": "stream",
     "text": [
      "/Users/david/gtd_classifier/gtd_env/lib/python3.8/site-packages/IPython/core/interactiveshell.py:3146: DtypeWarning: Columns (5,32,34,62,63,64,77,80,91,93,95,97,115,116,122) have mixed types.Specify dtype option on import or set low_memory=False.\n",
      "  has_raised = await self.run_ast_nodes(code_ast.body, cell_name,\n"
     ]
    }
   ],
   "source": [
    "gtd = pd.read_csv('../data/globalterrorismdb_0919dist.csv.zip')"
   ]
  },
  {
   "cell_type": "code",
   "execution_count": 3,
   "id": "closing-reporter",
   "metadata": {},
   "outputs": [
    {
     "data": {
      "text/html": [
       "<div>\n",
       "<style scoped>\n",
       "    .dataframe tbody tr th:only-of-type {\n",
       "        vertical-align: middle;\n",
       "    }\n",
       "\n",
       "    .dataframe tbody tr th {\n",
       "        vertical-align: top;\n",
       "    }\n",
       "\n",
       "    .dataframe thead th {\n",
       "        text-align: right;\n",
       "    }\n",
       "</style>\n",
       "<table border=\"1\" class=\"dataframe\">\n",
       "  <thead>\n",
       "    <tr style=\"text-align: right;\">\n",
       "      <th></th>\n",
       "      <th>Unnamed: 0</th>\n",
       "      <th>eventid</th>\n",
       "      <th>iyear</th>\n",
       "      <th>imonth</th>\n",
       "      <th>iday</th>\n",
       "      <th>approxdate</th>\n",
       "      <th>extended</th>\n",
       "      <th>resolution</th>\n",
       "      <th>country</th>\n",
       "      <th>country_txt</th>\n",
       "      <th>...</th>\n",
       "      <th>addnotes</th>\n",
       "      <th>scite1</th>\n",
       "      <th>scite2</th>\n",
       "      <th>scite3</th>\n",
       "      <th>dbsource</th>\n",
       "      <th>INT_LOG</th>\n",
       "      <th>INT_IDEO</th>\n",
       "      <th>INT_MISC</th>\n",
       "      <th>INT_ANY</th>\n",
       "      <th>related</th>\n",
       "    </tr>\n",
       "  </thead>\n",
       "  <tbody>\n",
       "    <tr>\n",
       "      <th>0</th>\n",
       "      <td>0</td>\n",
       "      <td>197000000001</td>\n",
       "      <td>1970</td>\n",
       "      <td>7</td>\n",
       "      <td>2</td>\n",
       "      <td>NaN</td>\n",
       "      <td>0</td>\n",
       "      <td>NaN</td>\n",
       "      <td>58</td>\n",
       "      <td>Dominican Republic</td>\n",
       "      <td>...</td>\n",
       "      <td>NaN</td>\n",
       "      <td>NaN</td>\n",
       "      <td>NaN</td>\n",
       "      <td>NaN</td>\n",
       "      <td>PGIS</td>\n",
       "      <td>0</td>\n",
       "      <td>0</td>\n",
       "      <td>0</td>\n",
       "      <td>0</td>\n",
       "      <td>NaN</td>\n",
       "    </tr>\n",
       "    <tr>\n",
       "      <th>1</th>\n",
       "      <td>1</td>\n",
       "      <td>197000000002</td>\n",
       "      <td>1970</td>\n",
       "      <td>0</td>\n",
       "      <td>0</td>\n",
       "      <td>NaN</td>\n",
       "      <td>0</td>\n",
       "      <td>NaN</td>\n",
       "      <td>130</td>\n",
       "      <td>Mexico</td>\n",
       "      <td>...</td>\n",
       "      <td>NaN</td>\n",
       "      <td>NaN</td>\n",
       "      <td>NaN</td>\n",
       "      <td>NaN</td>\n",
       "      <td>PGIS</td>\n",
       "      <td>0</td>\n",
       "      <td>1</td>\n",
       "      <td>1</td>\n",
       "      <td>1</td>\n",
       "      <td>NaN</td>\n",
       "    </tr>\n",
       "    <tr>\n",
       "      <th>2</th>\n",
       "      <td>2</td>\n",
       "      <td>197001000001</td>\n",
       "      <td>1970</td>\n",
       "      <td>1</td>\n",
       "      <td>0</td>\n",
       "      <td>NaN</td>\n",
       "      <td>0</td>\n",
       "      <td>NaN</td>\n",
       "      <td>160</td>\n",
       "      <td>Philippines</td>\n",
       "      <td>...</td>\n",
       "      <td>NaN</td>\n",
       "      <td>NaN</td>\n",
       "      <td>NaN</td>\n",
       "      <td>NaN</td>\n",
       "      <td>PGIS</td>\n",
       "      <td>-9</td>\n",
       "      <td>-9</td>\n",
       "      <td>1</td>\n",
       "      <td>1</td>\n",
       "      <td>NaN</td>\n",
       "    </tr>\n",
       "    <tr>\n",
       "      <th>3</th>\n",
       "      <td>3</td>\n",
       "      <td>197001000002</td>\n",
       "      <td>1970</td>\n",
       "      <td>1</td>\n",
       "      <td>0</td>\n",
       "      <td>NaN</td>\n",
       "      <td>0</td>\n",
       "      <td>NaN</td>\n",
       "      <td>78</td>\n",
       "      <td>Greece</td>\n",
       "      <td>...</td>\n",
       "      <td>NaN</td>\n",
       "      <td>NaN</td>\n",
       "      <td>NaN</td>\n",
       "      <td>NaN</td>\n",
       "      <td>PGIS</td>\n",
       "      <td>-9</td>\n",
       "      <td>-9</td>\n",
       "      <td>1</td>\n",
       "      <td>1</td>\n",
       "      <td>NaN</td>\n",
       "    </tr>\n",
       "    <tr>\n",
       "      <th>4</th>\n",
       "      <td>4</td>\n",
       "      <td>197001000003</td>\n",
       "      <td>1970</td>\n",
       "      <td>1</td>\n",
       "      <td>0</td>\n",
       "      <td>NaN</td>\n",
       "      <td>0</td>\n",
       "      <td>NaN</td>\n",
       "      <td>101</td>\n",
       "      <td>Japan</td>\n",
       "      <td>...</td>\n",
       "      <td>NaN</td>\n",
       "      <td>NaN</td>\n",
       "      <td>NaN</td>\n",
       "      <td>NaN</td>\n",
       "      <td>PGIS</td>\n",
       "      <td>-9</td>\n",
       "      <td>-9</td>\n",
       "      <td>1</td>\n",
       "      <td>1</td>\n",
       "      <td>NaN</td>\n",
       "    </tr>\n",
       "  </tbody>\n",
       "</table>\n",
       "<p>5 rows × 136 columns</p>\n",
       "</div>"
      ],
      "text/plain": [
       "   Unnamed: 0       eventid  iyear  imonth  iday approxdate  extended  \\\n",
       "0           0  197000000001   1970       7     2        NaN         0   \n",
       "1           1  197000000002   1970       0     0        NaN         0   \n",
       "2           2  197001000001   1970       1     0        NaN         0   \n",
       "3           3  197001000002   1970       1     0        NaN         0   \n",
       "4           4  197001000003   1970       1     0        NaN         0   \n",
       "\n",
       "  resolution  country         country_txt  ...  addnotes scite1 scite2 scite3  \\\n",
       "0        NaN       58  Dominican Republic  ...       NaN    NaN    NaN    NaN   \n",
       "1        NaN      130              Mexico  ...       NaN    NaN    NaN    NaN   \n",
       "2        NaN      160         Philippines  ...       NaN    NaN    NaN    NaN   \n",
       "3        NaN       78              Greece  ...       NaN    NaN    NaN    NaN   \n",
       "4        NaN      101               Japan  ...       NaN    NaN    NaN    NaN   \n",
       "\n",
       "   dbsource  INT_LOG  INT_IDEO  INT_MISC INT_ANY related  \n",
       "0      PGIS        0         0         0       0     NaN  \n",
       "1      PGIS        0         1         1       1     NaN  \n",
       "2      PGIS       -9        -9         1       1     NaN  \n",
       "3      PGIS       -9        -9         1       1     NaN  \n",
       "4      PGIS       -9        -9         1       1     NaN  \n",
       "\n",
       "[5 rows x 136 columns]"
      ]
     },
     "execution_count": 3,
     "metadata": {},
     "output_type": "execute_result"
    }
   ],
   "source": [
    "gtd.head()"
   ]
  },
  {
   "cell_type": "code",
   "execution_count": 4,
   "id": "speaking-latest",
   "metadata": {},
   "outputs": [
    {
     "name": "stdout",
     "output_type": "stream",
     "text": [
      "<class 'pandas.core.frame.DataFrame'>\n",
      "RangeIndex: 191464 entries, 0 to 191463\n",
      "Columns: 136 entries, Unnamed: 0 to related\n",
      "dtypes: float64(53), int64(25), object(58)\n",
      "memory usage: 198.7+ MB\n"
     ]
    }
   ],
   "source": [
    "gtd.info()"
   ]
  },
  {
   "cell_type": "code",
   "execution_count": 5,
   "id": "pointed-american",
   "metadata": {},
   "outputs": [
    {
     "data": {
      "text/plain": [
       "2018"
      ]
     },
     "execution_count": 5,
     "metadata": {},
     "output_type": "execute_result"
    }
   ],
   "source": [
    "gtd['iyear'].max()"
   ]
  },
  {
   "cell_type": "code",
   "execution_count": 6,
   "id": "standing-fence",
   "metadata": {},
   "outputs": [
    {
     "data": {
      "text/plain": [
       "Iraq                   26057\n",
       "Pakistan               14847\n",
       "Afghanistan            14509\n",
       "India                  12853\n",
       "Colombia                8515\n",
       "                       ...  \n",
       "International              1\n",
       "St. Lucia                  1\n",
       "Vatican City               1\n",
       "Antigua and Barbuda        1\n",
       "Wallis and Futuna          1\n",
       "Name: country_txt, Length: 205, dtype: int64"
      ]
     },
     "execution_count": 6,
     "metadata": {},
     "output_type": "execute_result"
    }
   ],
   "source": [
    "gtd['country_txt'].value_counts()"
   ]
  },
  {
   "cell_type": "code",
   "execution_count": 7,
   "id": "rocky-belly",
   "metadata": {},
   "outputs": [
    {
     "data": {
      "text/plain": [
       "Unknown                                        19233\n",
       "Islamic State of Iraq and the Levant (ISIL)     5486\n",
       "Al-Qaida in Iraq                                 632\n",
       "Islamic State of Iraq (ISI)                      145\n",
       "Asa'ib Ahl al-Haqq                                71\n",
       "                                               ...  \n",
       "Islamic Movement of Iraqi Mujahidin                1\n",
       "Iraqi Sunni Extremists                             1\n",
       "Unified Kurdish Socialist Party                    1\n",
       "Liberals of Galilee                                1\n",
       "Hizballah-Iraq                                     1\n",
       "Name: gname, Length: 102, dtype: int64"
      ]
     },
     "execution_count": 7,
     "metadata": {},
     "output_type": "execute_result"
    }
   ],
   "source": [
    "gtd[gtd['country_txt'] == 'Iraq']['gname'].value_counts()"
   ]
  },
  {
   "cell_type": "code",
   "execution_count": 8,
   "id": "affecting-paint",
   "metadata": {},
   "outputs": [
    {
     "data": {
      "text/plain": [
       "45"
      ]
     },
     "execution_count": 8,
     "metadata": {},
     "output_type": "execute_result"
    }
   ],
   "source": [
    "gtd[gtd['country_txt'] == 'Afghanistan']['gname'].nunique()"
   ]
  },
  {
   "cell_type": "code",
   "execution_count": 9,
   "id": "opening-missouri",
   "metadata": {},
   "outputs": [
    {
     "data": {
      "text/plain": [
       "Taliban                                                                                 8671\n",
       "Unknown                                                                                 5220\n",
       "Khorasan Chapter of the Islamic State                                                    357\n",
       "Haqqani Network                                                                           85\n",
       "Hizb-I-Islami                                                                             42\n",
       "Al-Qaida                                                                                  20\n",
       "Tehrik-i-Taliban Pakistan (TTP)                                                           15\n",
       "Gunmen                                                                                     9\n",
       "Afghan Guerrillas                                                                          7\n",
       "Afghan Mujahideen                                                                          7\n",
       "Guerrillas                                                                                 6\n",
       "Opposition Group                                                                           5\n",
       "Hezb-e Wahdat-e Islami-yi Afghanistan                                                      5\n",
       "Mahaz Fedai Tahrik Islami Afghanistan                                                      5\n",
       "The Northern Alliance (or United Islamic Front for Salvation of Afghanistan - UIFSA)       5\n",
       "Militants                                                                                  4\n",
       "Insurgents                                                                                 3\n",
       "Muslim extremists                                                                          3\n",
       "Muslim Militants                                                                           3\n",
       "Jamiat-e Islami-yi Afghanistan                                                             3\n",
       "Khorasan jihadi group                                                                      2\n",
       "Afghan Rebels                                                                              2\n",
       "Lashkar-e-Taiba (LeT)                                                                      2\n",
       "Jaish al-Muslimin (Army of the Muslims)                                                    2\n",
       "Islamic Movement of Uzbekistan (IMU)                                                       2\n",
       "Muslim Guerrillas                                                                          2\n",
       "Lashkar-e-Jhangvi                                                                          2\n",
       "Islamist extremists                                                                        2\n",
       "Anti-United States extremists                                                              2\n",
       "Haji Fateh                                                                                 1\n",
       "Saif-ul-Muslimeen                                                                          1\n",
       "Nahzat e Eslami                                                                            1\n",
       "Jundallah (Pakistan)                                                                       1\n",
       "Jaish-e-Mohammad (JeM)                                                                     1\n",
       "Al-Fatah                                                                                   1\n",
       "Shia Muslim extremists                                                                     1\n",
       "Ittehad-i-Islami                                                                           1\n",
       "Tela Mohammed                                                                              1\n",
       "Shinwari Tribe                                                                             1\n",
       "Black December                                                                             1\n",
       "Najib Watan Party Faction                                                                  1\n",
       "Mahaz-e-Milli Islami Afghanistan                                                           1\n",
       "Harakat-i-Inqilahi-i-Islami                                                                1\n",
       "Mullah Dadullah Front                                                                      1\n",
       "Gholam Yahya Akbar                                                                         1\n",
       "Name: gname, dtype: int64"
      ]
     },
     "execution_count": 9,
     "metadata": {},
     "output_type": "execute_result"
    }
   ],
   "source": [
    "gtd[gtd['country_txt'] == 'Afghanistan']['gname'].value_counts()"
   ]
  },
  {
   "cell_type": "code",
   "execution_count": 10,
   "id": "informative-assignment",
   "metadata": {},
   "outputs": [
    {
     "data": {
      "text/plain": [
       "[<matplotlib.lines.Line2D at 0x7fd704349dc0>]"
      ]
     },
     "execution_count": 10,
     "metadata": {},
     "output_type": "execute_result"
    },
    {
     "data": {
      "image/png": "[encoded data removed]",
      "text/plain": [
       "<Figure size 432x288 with 1 Axes>"
      ]
     },
     "metadata": {
      "image/png": {
       "height": 248,
       "width": 380
      },
      "needs_background": "light"
     },
     "output_type": "display_data"
    }
   ],
   "source": [
    "afg_yearly = gtd[gtd['country_txt'] == 'Afghanistan'].groupby('iyear')['gname'].agg('nunique')\n",
    "\n",
    "plt.plot(afg_yearly)"
   ]
  },
  {
   "cell_type": "markdown",
   "id": "minute-parks",
   "metadata": {},
   "source": [
    "Afghanistan seems like a suitable choice. There is a large number of events for training the model. The number of classes is more manageable than many countries with lots of attacks."
   ]
  },
  {
   "cell_type": "markdown",
   "id": "voluntary-complex",
   "metadata": {},
   "source": [
    "# Afghanistan"
   ]
  },
  {
   "cell_type": "markdown",
   "id": "lucky-deadline",
   "metadata": {},
   "source": [
    "## Feature Engineering and Selection"
   ]
  },
  {
   "cell_type": "code",
   "execution_count": 62,
   "id": "expensive-start",
   "metadata": {},
   "outputs": [],
   "source": [
    "afg = gtd[gtd['country_txt'] == 'Afghanistan']"
   ]
  },
  {
   "cell_type": "code",
   "execution_count": 46,
   "id": "duplicate-tower",
   "metadata": {},
   "outputs": [
    {
     "data": {
      "text/plain": [
       "(14509, 136)"
      ]
     },
     "execution_count": 46,
     "metadata": {},
     "output_type": "execute_result"
    }
   ],
   "source": [
    "afg.shape"
   ]
  },
  {
   "cell_type": "markdown",
   "id": "according-heading",
   "metadata": {},
   "source": [
    "### Dates"
   ]
  },
  {
   "cell_type": "markdown",
   "id": "liked-press",
   "metadata": {},
   "source": [
    "We'll use the day of the week, month (as a category) as year (as numeric). The latter two are good to go, but the day requires some work. First, the day is listed as zero if it is not known precisely. We'll create a binary flag indicating this and then set the day to the rounded mean of 15."
   ]
  },
  {
   "cell_type": "code",
   "execution_count": 63,
   "id": "grave-samoa",
   "metadata": {},
   "outputs": [],
   "source": [
    "# pandas throws a warning recommending I use a copy here - seems like false positive, but better safe than sorry\n",
    "af2 = afg.copy()\n",
    "af2['day_imprecise'] = af2['iday'].apply(lambda x: 1 if x==0 else 0)\n",
    "afg = af2.copy()"
   ]
  },
  {
   "cell_type": "code",
   "execution_count": 48,
   "id": "responsible-suspension",
   "metadata": {},
   "outputs": [
    {
     "data": {
      "text/plain": [
       "0    14496\n",
       "1       13\n",
       "Name: day_imprecise, dtype: int64"
      ]
     },
     "execution_count": 48,
     "metadata": {},
     "output_type": "execute_result"
    }
   ],
   "source": [
    "afg['day_imprecise'].value_counts()"
   ]
  },
  {
   "cell_type": "code",
   "execution_count": 64,
   "id": "regular-thing",
   "metadata": {},
   "outputs": [],
   "source": [
    "afg['day_recode'] = afg['iday'].replace(0, 15)"
   ]
  },
  {
   "cell_type": "code",
   "execution_count": 65,
   "id": "assigned-toner",
   "metadata": {},
   "outputs": [],
   "source": [
    "# create full date column\n",
    "afg['full_date'] = afg['imonth'].astype(str) + \"-\" + afg['day_recode'].astype(str) + \"-\" + afg['iyear'].astype(str)\n",
    "afg['full_date'] = pd.to_datetime(afg['full_date'])"
   ]
  },
  {
   "cell_type": "code",
   "execution_count": 66,
   "id": "minus-independence",
   "metadata": {},
   "outputs": [],
   "source": [
    "# extract day of week\n",
    "afg['day_of_week'] = afg['full_date'].dt.dayofweek"
   ]
  },
  {
   "cell_type": "markdown",
   "id": "appropriate-panic",
   "metadata": {},
   "source": [
    "### Incident Info"
   ]
  },
  {
   "cell_type": "markdown",
   "id": "maritime-perception",
   "metadata": {},
   "source": [
    "The criteria variables have minimal useful variation. The 'doubtterr' variable is potentially useful, we just need to recode -9 (data collected before this variable existed). We'll se them to 0"
   ]
  },
  {
   "cell_type": "code",
   "execution_count": 67,
   "id": "exempt-expense",
   "metadata": {},
   "outputs": [],
   "source": [
    "afg['doubtterr'] = afg['doubtterr'].replace(-9, 0)"
   ]
  },
  {
   "cell_type": "code",
   "execution_count": 56,
   "id": "broke-nashville",
   "metadata": {},
   "outputs": [
    {
     "data": {
      "text/plain": [
       "0    12422\n",
       "1     2087\n",
       "Name: multiple, dtype: int64"
      ]
     },
     "execution_count": 56,
     "metadata": {},
     "output_type": "execute_result"
    }
   ],
   "source": [
    "afg['multiple'].value_counts()"
   ]
  },
  {
   "cell_type": "markdown",
   "id": "primary-repair",
   "metadata": {},
   "source": [
    "Part of multiple indicator seems worth including."
   ]
  },
  {
   "cell_type": "markdown",
   "id": "based-tobacco",
   "metadata": {},
   "source": [
    "### Location"
   ]
  },
  {
   "cell_type": "markdown",
   "id": "terminal-sunset",
   "metadata": {},
   "source": [
    "There are several useful location items that can be included without modification. I will include province, but city has too many values."
   ]
  },
  {
   "cell_type": "code",
   "execution_count": 57,
   "id": "regulated-reward",
   "metadata": {},
   "outputs": [
    {
     "data": {
      "text/plain": [
       "Helmand             1325\n",
       "Kandahar            1218\n",
       "Nangarhar           1105\n",
       "Kabul                983\n",
       "Ghazni               928\n",
       "Herat                720\n",
       "Faryab               662\n",
       "Farah                638\n",
       "Kunduz               578\n",
       "Uruzgan              513\n",
       "Khost                480\n",
       "Kunar                480\n",
       "Zabul                435\n",
       "Baghlan              388\n",
       "Logar                385\n",
       "Jawzjan              350\n",
       "Paktika              347\n",
       "Wardak               325\n",
       "Paktia               299\n",
       "Badghis              247\n",
       "Laghman              246\n",
       "Badakhshan           209\n",
       "Takhar               208\n",
       "Parwan               208\n",
       "Balkh                202\n",
       "Ghor                 195\n",
       "Nimroz               181\n",
       "Sari Pul             180\n",
       "Kapisa               159\n",
       "Nuristan              99\n",
       "Unknown               95\n",
       "Samangan              67\n",
       "Bamyan                30\n",
       "Daykundi              20\n",
       "Panjsher               3\n",
       "Paktika Province       1\n",
       "Name: provstate, dtype: int64"
      ]
     },
     "execution_count": 57,
     "metadata": {},
     "output_type": "execute_result"
    }
   ],
   "source": [
    "afg['provstate'].value_counts()"
   ]
  },
  {
   "cell_type": "code",
   "execution_count": 59,
   "id": "collect-crossing",
   "metadata": {},
   "outputs": [
    {
     "data": {
      "text/plain": [
       "0    13800\n",
       "1      709\n",
       "Name: vicinity, dtype: int64"
      ]
     },
     "execution_count": 59,
     "metadata": {},
     "output_type": "execute_result"
    }
   ],
   "source": [
    "afg['vicinity'].value_counts()"
   ]
  },
  {
   "cell_type": "code",
   "execution_count": 60,
   "id": "hindu-pixel",
   "metadata": {},
   "outputs": [
    {
     "data": {
      "text/plain": [
       "Unknown                   1202\n",
       "Kabul                      847\n",
       "Kandahar                   390\n",
       "Jalalabad                  304\n",
       "Ghazni                     215\n",
       "                          ... \n",
       "Kaj Qala                     1\n",
       "Khak Yarak                   1\n",
       "Almalak                      1\n",
       "Jahangir                     1\n",
       "Shah Wali Kot District       1\n",
       "Name: city, Length: 3149, dtype: int64"
      ]
     },
     "execution_count": 60,
     "metadata": {},
     "output_type": "execute_result"
    }
   ],
   "source": [
    "afg['city'].value_counts()"
   ]
  },
  {
   "cell_type": "markdown",
   "id": "split-swiss",
   "metadata": {},
   "source": [
    "### Attack/Weapon Info"
   ]
  },
  {
   "cell_type": "markdown",
   "id": "referenced-paraguay",
   "metadata": {},
   "source": [
    "9 is uknown, but since this will be handled with one-hot encoding, it doesn't require any special treatment at this stage."
   ]
  },
  {
   "cell_type": "code",
   "execution_count": 61,
   "id": "departmental-vocabulary",
   "metadata": {},
   "outputs": [
    {
     "data": {
      "text/plain": [
       "3    6784\n",
       "2    3264\n",
       "9    1671\n",
       "6    1185\n",
       "1    1067\n",
       "7     397\n",
       "8      78\n",
       "5      42\n",
       "4      21\n",
       "Name: attacktype1, dtype: int64"
      ]
     },
     "execution_count": 61,
     "metadata": {},
     "output_type": "execute_result"
    }
   ],
   "source": [
    "afg['attacktype1'].value_counts( )"
   ]
  },
  {
   "cell_type": "code",
   "execution_count": 65,
   "id": "amber-estimate",
   "metadata": {},
   "outputs": [
    {
     "data": {
      "text/plain": [
       "0.9494107105934247"
      ]
     },
     "execution_count": 65,
     "metadata": {},
     "output_type": "execute_result"
    }
   ],
   "source": [
    "afg['attacktype2'].isna().sum() / afg.shape[0]"
   ]
  },
  {
   "cell_type": "markdown",
   "id": "provincial-soccer",
   "metadata": {},
   "source": [
    "94% of attacktype2 is missing, so we'll exclude that."
   ]
  },
  {
   "cell_type": "code",
   "execution_count": 76,
   "id": "capital-addiction",
   "metadata": {},
   "outputs": [
    {
     "data": {
      "text/plain": [
       "6     7403\n",
       "5     4295\n",
       "13    2237\n",
       "8      351\n",
       "9      147\n",
       "2       61\n",
       "11       6\n",
       "12       6\n",
       "10       3\n",
       "Name: weaptype1, dtype: int64"
      ]
     },
     "execution_count": 76,
     "metadata": {},
     "output_type": "execute_result"
    }
   ],
   "source": [
    "afg['weaptype1'].value_counts()"
   ]
  },
  {
   "cell_type": "markdown",
   "id": "located-battle",
   "metadata": {},
   "source": [
    "13 is unknown, but again one hot will effectively flag this."
   ]
  },
  {
   "cell_type": "code",
   "execution_count": 78,
   "id": "specialized-wildlife",
   "metadata": {},
   "outputs": [
    {
     "data": {
      "text/plain": [
       "0.9351437039079192"
      ]
     },
     "execution_count": 78,
     "metadata": {},
     "output_type": "execute_result"
    }
   ],
   "source": [
    "afg['weaptype2'].isna().sum() / afg.shape[0]"
   ]
  },
  {
   "cell_type": "markdown",
   "id": "vital-correction",
   "metadata": {},
   "source": [
    "Again, mostly missing so we'll ignore it."
   ]
  },
  {
   "cell_type": "markdown",
   "id": "regulated-potato",
   "metadata": {},
   "source": [
    "### Victim & Perpetrator Info"
   ]
  },
  {
   "cell_type": "code",
   "execution_count": 101,
   "id": "brief-jamaica",
   "metadata": {},
   "outputs": [
    {
     "data": {
      "text/plain": [
       "3     4152\n",
       "14    2921\n",
       "4     2625\n",
       "2     1835\n",
       "20     860\n",
       "1      506\n",
       "8      356\n",
       "15     255\n",
       "17     184\n",
       "19     165\n",
       "12     163\n",
       "7      156\n",
       "10      89\n",
       "16      79\n",
       "6       64\n",
       "21      45\n",
       "22      27\n",
       "9       14\n",
       "13       8\n",
       "18       4\n",
       "11       1\n",
       "Name: targtype1, dtype: int64"
      ]
     },
     "execution_count": 101,
     "metadata": {},
     "output_type": "execute_result"
    }
   ],
   "source": [
    "afg['targtype1'].value_counts()"
   ]
  },
  {
   "cell_type": "markdown",
   "id": "palestinian-professor",
   "metadata": {},
   "source": [
    "13 is other. Let's fold the two smaller categories (18=tourists, 11=maritime) into that category."
   ]
  },
  {
   "cell_type": "code",
   "execution_count": 69,
   "id": "employed-steps",
   "metadata": {},
   "outputs": [],
   "source": [
    "afg['targtype1'] = afg['targtype1'].replace({18: 13, 11: 13})"
   ]
  },
  {
   "cell_type": "code",
   "execution_count": 71,
   "id": "christian-staff",
   "metadata": {},
   "outputs": [
    {
     "data": {
      "text/plain": [
       "4.0      12429\n",
       "422.0      903\n",
       "217.0       88\n",
       "153.0       37\n",
       "999.0       37\n",
       "92.0        29\n",
       "209.0       18\n",
       "75.0        14\n",
       "69.0        12\n",
       "216.0       12\n",
       "98.0        11\n",
       "94.0        10\n",
       "95.0         9\n",
       "38.0         7\n",
       "184.0        6\n",
       "19.0         6\n",
       "101.0        5\n",
       "44.0         4\n",
       "142.0        3\n",
       "334.0        3\n",
       "14.0         3\n",
       "6.0          2\n",
       "199.0        2\n",
       "198.0        2\n",
       "214.0        2\n",
       "202.0        2\n",
       "167.0        2\n",
       "151.0        1\n",
       "185.0        1\n",
       "91.0         1\n",
       "55.0         1\n",
       "141.0        1\n",
       "173.0        1\n",
       "74.0         1\n",
       "215.0        1\n",
       "205.0        1\n",
       "97.0         1\n",
       "347.0        1\n",
       "210.0        1\n",
       "359.0        1\n",
       "Name: natlty1, dtype: int64"
      ]
     },
     "execution_count": 71,
     "metadata": {},
     "output_type": "execute_result"
    }
   ],
   "source": [
    "afg['natlty1'].value_counts()"
   ]
  },
  {
   "cell_type": "markdown",
   "id": "handed-tablet",
   "metadata": {},
   "source": [
    "4 = Afg, 422 = International, 217 = US, 153 = Pak, 999 = Multinational, 92 = India, 209 = Turkey\n",
    "\n",
    "Let's keep top 5 and recode rest to 'other'. International vs. Multinational might be picking up on something useful."
   ]
  },
  {
   "cell_type": "code",
   "execution_count": 77,
   "id": "authorized-murray",
   "metadata": {},
   "outputs": [],
   "source": [
    "afg['natlty1'] = afg['natlty1'].map({4: 'Afg', 422.0: 'Int', 217: 'USA', 153: 'Pak', 999: 'Multi'}).fillna('Other').value_counts()"
   ]
  },
  {
   "cell_type": "code",
   "execution_count": 82,
   "id": "smooth-arthritis",
   "metadata": {},
   "outputs": [
    {
     "data": {
      "text/plain": [
       "165"
      ]
     },
     "execution_count": 82,
     "metadata": {},
     "output_type": "execute_result"
    }
   ],
   "source": [
    "afg['gname2'].notnull().sum()"
   ]
  },
  {
   "cell_type": "markdown",
   "id": "coastal-growth",
   "metadata": {},
   "source": [
    "Cases of second attacking groups are rare, but this could be informative. Let's construct a binary indicator from this."
   ]
  },
  {
   "cell_type": "code",
   "execution_count": 92,
   "id": "tutorial-venture",
   "metadata": {},
   "outputs": [],
   "source": [
    "afg['multiple_attackers'] = afg['gname2'].apply(lambda x: 1 if pd.notnull(x) else 0)"
   ]
  },
  {
   "cell_type": "code",
   "execution_count": 93,
   "id": "cellular-protest",
   "metadata": {},
   "outputs": [
    {
     "data": {
      "text/plain": [
       "0.0    13354\n",
       "1.0     1155\n",
       "Name: guncertain1, dtype: int64"
      ]
     },
     "execution_count": 93,
     "metadata": {},
     "output_type": "execute_result"
    }
   ],
   "source": [
    "afg['guncertain1'].value_counts()"
   ]
  },
  {
   "cell_type": "code",
   "execution_count": 95,
   "id": "later-newton",
   "metadata": {},
   "outputs": [
    {
     "data": {
      "text/plain": [
       "count    13525.000000\n",
       "mean       -76.924362\n",
       "std         65.187849\n",
       "min        -99.000000\n",
       "25%        -99.000000\n",
       "50%        -99.000000\n",
       "75%        -99.000000\n",
       "max       2000.000000\n",
       "Name: nperps, dtype: float64"
      ]
     },
     "execution_count": 95,
     "metadata": {},
     "output_type": "execute_result"
    }
   ],
   "source": [
    "afg['nperps'].describe()"
   ]
  },
  {
   "cell_type": "markdown",
   "id": "static-organic",
   "metadata": {},
   "source": [
    "-99 is the missing value code so let's fix that"
   ]
  },
  {
   "cell_type": "code",
   "execution_count": 99,
   "id": "unsigned-guest",
   "metadata": {},
   "outputs": [
    {
     "data": {
      "text/plain": [
       "count    2466.000000\n",
       "mean       22.075831\n",
       "std       106.408934\n",
       "min         0.000000\n",
       "25%         1.000000\n",
       "50%         2.000000\n",
       "75%         4.000000\n",
       "max      2000.000000\n",
       "Name: nperps, dtype: float64"
      ]
     },
     "execution_count": 99,
     "metadata": {},
     "output_type": "execute_result"
    }
   ],
   "source": [
    "afg['nperps'] = afg['nperps'].replace(-99, np.NaN)\n",
    "\n",
    "afg['nperps'].describe()"
   ]
  },
  {
   "cell_type": "markdown",
   "id": "mineral-discretion",
   "metadata": {},
   "source": [
    "nperpcap will probably be too collinear to include."
   ]
  },
  {
   "cell_type": "code",
   "execution_count": 100,
   "id": "unauthorized-transformation",
   "metadata": {},
   "outputs": [
    {
     "data": {
      "text/plain": [
       " 0.0    9842\n",
       " 1.0    4453\n",
       "-9.0     100\n",
       "Name: claimed, dtype: int64"
      ]
     },
     "execution_count": 100,
     "metadata": {},
     "output_type": "execute_result"
    }
   ],
   "source": [
    "afg['claimed'].value_counts()"
   ]
  },
  {
   "cell_type": "markdown",
   "id": "prospective-apparatus",
   "metadata": {},
   "source": [
    "Claims of responsibility are only coded for 1997-present, but seem very useful."
   ]
  },
  {
   "cell_type": "code",
   "execution_count": 103,
   "id": "velvet-funds",
   "metadata": {},
   "outputs": [],
   "source": [
    "afg['claimed'] = afg['claimed'].replace(-9, np.NaN)"
   ]
  },
  {
   "cell_type": "markdown",
   "id": "connected-commonwealth",
   "metadata": {},
   "source": [
    "### Outcomes"
   ]
  },
  {
   "cell_type": "code",
   "execution_count": 105,
   "id": "saving-spread",
   "metadata": {},
   "outputs": [
    {
     "data": {
      "text/plain": [
       "count    14013.000000\n",
       "mean         3.511168\n",
       "std          8.807718\n",
       "min          0.000000\n",
       "25%          0.000000\n",
       "50%          1.000000\n",
       "75%          4.000000\n",
       "max        466.000000\n",
       "Name: nkill, dtype: float64"
      ]
     },
     "execution_count": 105,
     "metadata": {},
     "output_type": "execute_result"
    }
   ],
   "source": [
    "afg['nkill'].describe()"
   ]
  },
  {
   "cell_type": "code",
   "execution_count": 106,
   "id": "documented-highlight",
   "metadata": {},
   "outputs": [
    {
     "data": {
      "text/plain": [
       "496"
      ]
     },
     "execution_count": 106,
     "metadata": {},
     "output_type": "execute_result"
    }
   ],
   "source": [
    "afg['nkill'].isna().sum()"
   ]
  },
  {
   "cell_type": "code",
   "execution_count": 108,
   "id": "excited-parent",
   "metadata": {},
   "outputs": [
    {
     "data": {
      "text/plain": [
       "count    14339.000000\n",
       "mean         0.035149\n",
       "std          0.310270\n",
       "min          0.000000\n",
       "25%          0.000000\n",
       "50%          0.000000\n",
       "75%          0.000000\n",
       "max         13.000000\n",
       "Name: nkillus, dtype: float64"
      ]
     },
     "execution_count": 108,
     "metadata": {},
     "output_type": "execute_result"
    }
   ],
   "source": [
    "afg['nkillus'].describe()"
   ]
  },
  {
   "cell_type": "code",
   "execution_count": 109,
   "id": "forced-pointer",
   "metadata": {},
   "outputs": [
    {
     "data": {
      "text/plain": [
       "170"
      ]
     },
     "execution_count": 109,
     "metadata": {},
     "output_type": "execute_result"
    }
   ],
   "source": [
    "afg['nkillus'].isna().sum()"
   ]
  },
  {
   "cell_type": "code",
   "execution_count": 110,
   "id": "physical-virtue",
   "metadata": {},
   "outputs": [
    {
     "data": {
      "text/plain": [
       "count    13899.000000\n",
       "mean         1.444061\n",
       "std          6.209684\n",
       "min          0.000000\n",
       "25%          0.000000\n",
       "50%          0.000000\n",
       "75%          1.000000\n",
       "max        326.000000\n",
       "Name: nkillter, dtype: float64"
      ]
     },
     "execution_count": 110,
     "metadata": {},
     "output_type": "execute_result"
    }
   ],
   "source": [
    "afg['nkillter'].describe()"
   ]
  },
  {
   "cell_type": "code",
   "execution_count": 111,
   "id": "heated-champion",
   "metadata": {},
   "outputs": [
    {
     "data": {
      "text/plain": [
       "610"
      ]
     },
     "execution_count": 111,
     "metadata": {},
     "output_type": "execute_result"
    }
   ],
   "source": [
    "afg['nkillter'].isna().sum()"
   ]
  },
  {
   "cell_type": "code",
   "execution_count": 113,
   "id": "precious-hospital",
   "metadata": {},
   "outputs": [
    {
     "data": {
      "text/plain": [
       "count    13536.000000\n",
       "mean         3.850547\n",
       "std         12.584563\n",
       "min          0.000000\n",
       "25%          0.000000\n",
       "50%          1.000000\n",
       "75%          4.000000\n",
       "max        491.000000\n",
       "Name: nwound, dtype: float64"
      ]
     },
     "execution_count": 113,
     "metadata": {},
     "output_type": "execute_result"
    }
   ],
   "source": [
    "afg['nwound'].describe()"
   ]
  },
  {
   "cell_type": "code",
   "execution_count": 114,
   "id": "powered-monkey",
   "metadata": {},
   "outputs": [
    {
     "data": {
      "text/plain": [
       "973"
      ]
     },
     "execution_count": 114,
     "metadata": {},
     "output_type": "execute_result"
    }
   ],
   "source": [
    "afg['nwound'].isna().sum()"
   ]
  },
  {
   "cell_type": "code",
   "execution_count": 118,
   "id": "polish-security",
   "metadata": {},
   "outputs": [
    {
     "data": {
      "text/plain": [
       "count    14288.000000\n",
       "mean         0.034155\n",
       "std          1.118741\n",
       "min          0.000000\n",
       "25%          0.000000\n",
       "50%          0.000000\n",
       "75%          0.000000\n",
       "max        101.000000\n",
       "Name: nwoundus, dtype: float64"
      ]
     },
     "execution_count": 118,
     "metadata": {},
     "output_type": "execute_result"
    }
   ],
   "source": [
    "afg['nwoundus'].describe()"
   ]
  },
  {
   "cell_type": "code",
   "execution_count": 119,
   "id": "outside-biology",
   "metadata": {},
   "outputs": [
    {
     "data": {
      "text/plain": [
       "221"
      ]
     },
     "execution_count": 119,
     "metadata": {},
     "output_type": "execute_result"
    }
   ],
   "source": [
    "afg['nwoundus'].isna().sum()"
   ]
  },
  {
   "cell_type": "code",
   "execution_count": 120,
   "id": "nominated-reservation",
   "metadata": {},
   "outputs": [
    {
     "data": {
      "text/plain": [
       "count    13514.000000\n",
       "mean         0.685733\n",
       "std          3.331466\n",
       "min          0.000000\n",
       "25%          0.000000\n",
       "50%          0.000000\n",
       "75%          0.000000\n",
       "max        100.000000\n",
       "Name: nwoundte, dtype: float64"
      ]
     },
     "execution_count": 120,
     "metadata": {},
     "output_type": "execute_result"
    }
   ],
   "source": [
    "afg['nwoundte'].describe()"
   ]
  },
  {
   "cell_type": "code",
   "execution_count": 121,
   "id": "antique-merchandise",
   "metadata": {},
   "outputs": [
    {
     "data": {
      "text/plain": [
       "995"
      ]
     },
     "execution_count": 121,
     "metadata": {},
     "output_type": "execute_result"
    }
   ],
   "source": [
    "afg['nwoundte'].isna().sum()"
   ]
  },
  {
   "cell_type": "code",
   "execution_count": 122,
   "id": "junior-leather",
   "metadata": {},
   "outputs": [
    {
     "data": {
      "text/plain": [
       " 0    6730\n",
       " 1    5038\n",
       "-9    2741\n",
       "Name: property, dtype: int64"
      ]
     },
     "execution_count": 122,
     "metadata": {},
     "output_type": "execute_result"
    }
   ],
   "source": [
    "afg['property'].value_counts()"
   ]
  },
  {
   "cell_type": "code",
   "execution_count": 123,
   "id": "tutorial-jaguar",
   "metadata": {},
   "outputs": [
    {
     "data": {
      "text/plain": [
       "3.0    3839\n",
       "4.0    1415\n",
       "2.0      20\n",
       "Name: propextent, dtype: int64"
      ]
     },
     "execution_count": 123,
     "metadata": {},
     "output_type": "execute_result"
    }
   ],
   "source": [
    "afg['propextent'].value_counts()"
   ]
  },
  {
   "cell_type": "markdown",
   "id": "precise-bankruptcy",
   "metadata": {},
   "source": [
    "The binary property damage is worth trying. For extent, 4 is unknown, so we don't really have much differentiation at all from that predictor."
   ]
  },
  {
   "cell_type": "code",
   "execution_count": 125,
   "id": "individual-caution",
   "metadata": {},
   "outputs": [],
   "source": [
    "afg['property'] = afg['property'].replace(-9, np.NaN)"
   ]
  },
  {
   "cell_type": "code",
   "execution_count": 126,
   "id": "married-shell",
   "metadata": {},
   "outputs": [
    {
     "data": {
      "text/plain": [
       " 0.0    13106\n",
       " 1.0     1308\n",
       "-9.0       95\n",
       "Name: ishostkid, dtype: int64"
      ]
     },
     "execution_count": 126,
     "metadata": {},
     "output_type": "execute_result"
    }
   ],
   "source": [
    "afg['ishostkid'].value_counts()"
   ]
  },
  {
   "cell_type": "markdown",
   "id": "prime-lemon",
   "metadata": {},
   "source": [
    "Kidnappings are rare in Afg, but there are enough to be of potential use."
   ]
  },
  {
   "cell_type": "code",
   "execution_count": 128,
   "id": "cordless-updating",
   "metadata": {},
   "outputs": [],
   "source": [
    "afg['ishostkid'] = afg['ishostkid'].replace(-9, np.NaN)"
   ]
  },
  {
   "cell_type": "markdown",
   "id": "increasing-technique",
   "metadata": {},
   "source": [
    "### Feature Lists"
   ]
  },
  {
   "cell_type": "code",
   "execution_count": 131,
   "id": "clinical-omaha",
   "metadata": {},
   "outputs": [],
   "source": [
    "cat_predictors = [\n",
    "    'day_imprecise',\n",
    "    'day_of_week',\n",
    "    'imonth',\n",
    "    'extended',\n",
    "    'doubtterr',\n",
    "    'multiple',\n",
    "    'provstate',\n",
    "    'vicinity',\n",
    "    'attacktype1',\n",
    "    'success',\n",
    "    'suicide',\n",
    "    'weaptype1',\n",
    "    'targtype1',\n",
    "    'natlty1',\n",
    "    'multiple_attackers',\n",
    "    'guncertain1',\n",
    "    'nperps',\n",
    "    'claimed',\n",
    "    'property',\n",
    "    'ishostkid'\n",
    "]\n",
    "\n",
    "cont_predictors = [\n",
    "    'iyear',\n",
    "    'latitude',\n",
    "    'longitude',\n",
    "    'specificity',\n",
    "    'nkill',\n",
    "    'nkillus',\n",
    "    'nkillter',\n",
    "    'nwound',\n",
    "    'nwoundus',\n",
    "    'nwoundte'\n",
    "]"
   ]
  },
  {
   "cell_type": "code",
   "execution_count": 132,
   "id": "wireless-walker",
   "metadata": {},
   "outputs": [
    {
     "name": "stdout",
     "output_type": "stream",
     "text": [
      "20\n",
      "10\n"
     ]
    }
   ],
   "source": [
    "print(len(cat_predictors))\n",
    "print(len(cont_predictors))"
   ]
  },
  {
   "cell_type": "markdown",
   "id": "necessary-token",
   "metadata": {},
   "source": [
    "Descriptions of the features:\n",
    "\n",
    "Name | Type | Values | Desc | How Created\n",
    "-|-|-|-|-\n",
    "day_imprecise | cat | [0,1] | whether exact day is unknown | if iday == 0\n",
    "day_of_week | cat | [0:6] | day of week | pandas dt.dayofweek w/ imprecise dates set to 15th (mean)\n",
    "imonth | cat | [1:12] | month | included\n",
    "iyear | int | [1970:2018] | year, treated as continuous | included\n",
    "extended | cat | [0,1] | whether event lasted > 24 hrs | included\n",
    "doubtterr | cat | [0,1] | whether coders doubt attack meets definition of terrorism | included, but -9 (obs predates variable) recoded to 0\n",
    "multiple | cat | [0,1] | whether attack connected to other incidents | included\n",
    "provstate | cat | string | name of province | included\n",
    "vicinity | cat | [0,1] | 0=event occurred in city, 1=event occurred in vicinity | included\n",
    "latitude | num | | | included\n",
    "longitude | num | | | included\n",
    "specificity | cat | [1,5] | lower=more precise geocoding. treated as continuous | included\n",
    "attacktype1 | cat | [1,9] | type of attack - see codebook | included\n",
    "success | cat | [0,1] | 0=unsuccessful, 1=successful | included\n",
    "suicide | cat | [0,1] | 0=not suicide, 1=suicide | included\n",
    "weaptype1 | cat [1,13] | type of weapon - see codebook | included\n",
    "targtype1 | cat | many | type of target - see codebook | included, but combined 3 smallest categories\n",
    "natlty1 | cat | string | nationality of victim | included, but recoded to top 5 + 'other'\n",
    "multiple_attackers | cat | [0,1] | 1=multiple attacking groups named, 0=only 1 named | constructed from gname2 column\n",
    "guncertain1 | cat | [0,1] | 1=uncertainty about attribution, 0=certain | included\n",
    "nperps | num | | number of perpetrators | included\n",
    "claimed | cat | [0,1] | group claimed credit for attack | included\n",
    "property | cat | [0,1] | 1=property damage, 0=no | included\n",
    "nkill | num | | total fatalities | included\n",
    "nkillus | num | | number of Americans killed | included\n",
    "nkillter | num || number of perpetrators killed | included\n",
    "nwound | num || total wounded | included\n",
    "nwoundus | num || number of Americans wounded | included\n",
    "nwoundte | num || number of perpetrators wounded | included\n",
    "ishostkid | cat | [0,1] | 1=some/all victims kidnapped/taken hostage, 0=no | included"
   ]
  },
  {
   "cell_type": "markdown",
   "id": "native-straight",
   "metadata": {},
   "source": [
    "## Create Testing Set of Unattributed Attacks"
   ]
  },
  {
   "cell_type": "markdown",
   "id": "binding-magnitude",
   "metadata": {},
   "source": [
    "First we'll extract the unknown and generic perpetrators to serve as a testing set."
   ]
  },
  {
   "cell_type": "code",
   "execution_count": 133,
   "id": "opening-aspect",
   "metadata": {},
   "outputs": [
    {
     "data": {
      "text/html": [
       "<div>\n",
       "<style scoped>\n",
       "    .dataframe tbody tr th:only-of-type {\n",
       "        vertical-align: middle;\n",
       "    }\n",
       "\n",
       "    .dataframe tbody tr th {\n",
       "        vertical-align: top;\n",
       "    }\n",
       "\n",
       "    .dataframe thead th {\n",
       "        text-align: right;\n",
       "    }\n",
       "</style>\n",
       "<table border=\"1\" class=\"dataframe\">\n",
       "  <thead>\n",
       "    <tr style=\"text-align: right;\">\n",
       "      <th></th>\n",
       "      <th>Unnamed: 0</th>\n",
       "      <th>eventid</th>\n",
       "      <th>iyear</th>\n",
       "      <th>imonth</th>\n",
       "      <th>iday</th>\n",
       "      <th>approxdate</th>\n",
       "      <th>extended</th>\n",
       "      <th>resolution</th>\n",
       "      <th>country</th>\n",
       "      <th>country_txt</th>\n",
       "      <th>...</th>\n",
       "      <th>INT_IDEO</th>\n",
       "      <th>INT_MISC</th>\n",
       "      <th>INT_ANY</th>\n",
       "      <th>related</th>\n",
       "      <th>day_imprecise</th>\n",
       "      <th>day_recode</th>\n",
       "      <th>full_date</th>\n",
       "      <th>day_of_week</th>\n",
       "      <th>multiple_groups</th>\n",
       "      <th>multiple_attackers</th>\n",
       "    </tr>\n",
       "  </thead>\n",
       "  <tbody>\n",
       "    <tr>\n",
       "      <th>7627</th>\n",
       "      <td>7627</td>\n",
       "      <td>197902140010</td>\n",
       "      <td>1979</td>\n",
       "      <td>2</td>\n",
       "      <td>14</td>\n",
       "      <td>NaN</td>\n",
       "      <td>0</td>\n",
       "      <td>NaN</td>\n",
       "      <td>4</td>\n",
       "      <td>Afghanistan</td>\n",
       "      <td>...</td>\n",
       "      <td>-9</td>\n",
       "      <td>1</td>\n",
       "      <td>1</td>\n",
       "      <td>NaN</td>\n",
       "      <td>0</td>\n",
       "      <td>14</td>\n",
       "      <td>1979-02-14</td>\n",
       "      <td>2</td>\n",
       "      <td>0</td>\n",
       "      <td>0</td>\n",
       "    </tr>\n",
       "    <tr>\n",
       "      <th>9156</th>\n",
       "      <td>9156</td>\n",
       "      <td>197908270005</td>\n",
       "      <td>1979</td>\n",
       "      <td>8</td>\n",
       "      <td>27</td>\n",
       "      <td>NaN</td>\n",
       "      <td>0</td>\n",
       "      <td>NaN</td>\n",
       "      <td>4</td>\n",
       "      <td>Afghanistan</td>\n",
       "      <td>...</td>\n",
       "      <td>-9</td>\n",
       "      <td>0</td>\n",
       "      <td>-9</td>\n",
       "      <td>NaN</td>\n",
       "      <td>0</td>\n",
       "      <td>27</td>\n",
       "      <td>1979-08-27</td>\n",
       "      <td>0</td>\n",
       "      <td>0</td>\n",
       "      <td>0</td>\n",
       "    </tr>\n",
       "    <tr>\n",
       "      <th>9218</th>\n",
       "      <td>9218</td>\n",
       "      <td>197909090001</td>\n",
       "      <td>1979</td>\n",
       "      <td>9</td>\n",
       "      <td>9</td>\n",
       "      <td>NaN</td>\n",
       "      <td>0</td>\n",
       "      <td>NaN</td>\n",
       "      <td>4</td>\n",
       "      <td>Afghanistan</td>\n",
       "      <td>...</td>\n",
       "      <td>-9</td>\n",
       "      <td>-9</td>\n",
       "      <td>-9</td>\n",
       "      <td>NaN</td>\n",
       "      <td>0</td>\n",
       "      <td>9</td>\n",
       "      <td>1979-09-09</td>\n",
       "      <td>6</td>\n",
       "      <td>0</td>\n",
       "      <td>0</td>\n",
       "    </tr>\n",
       "    <tr>\n",
       "      <th>33929</th>\n",
       "      <td>33929</td>\n",
       "      <td>198803270001</td>\n",
       "      <td>1988</td>\n",
       "      <td>3</td>\n",
       "      <td>27</td>\n",
       "      <td>NaN</td>\n",
       "      <td>0</td>\n",
       "      <td>NaN</td>\n",
       "      <td>4</td>\n",
       "      <td>Afghanistan</td>\n",
       "      <td>...</td>\n",
       "      <td>1</td>\n",
       "      <td>1</td>\n",
       "      <td>1</td>\n",
       "      <td>NaN</td>\n",
       "      <td>0</td>\n",
       "      <td>27</td>\n",
       "      <td>1988-03-27</td>\n",
       "      <td>6</td>\n",
       "      <td>0</td>\n",
       "      <td>0</td>\n",
       "    </tr>\n",
       "    <tr>\n",
       "      <th>34063</th>\n",
       "      <td>34063</td>\n",
       "      <td>198804100009</td>\n",
       "      <td>1988</td>\n",
       "      <td>4</td>\n",
       "      <td>10</td>\n",
       "      <td>NaN</td>\n",
       "      <td>0</td>\n",
       "      <td>NaN</td>\n",
       "      <td>4</td>\n",
       "      <td>Afghanistan</td>\n",
       "      <td>...</td>\n",
       "      <td>-9</td>\n",
       "      <td>0</td>\n",
       "      <td>-9</td>\n",
       "      <td>NaN</td>\n",
       "      <td>0</td>\n",
       "      <td>10</td>\n",
       "      <td>1988-04-10</td>\n",
       "      <td>6</td>\n",
       "      <td>0</td>\n",
       "      <td>0</td>\n",
       "    </tr>\n",
       "  </tbody>\n",
       "</table>\n",
       "<p>5 rows × 142 columns</p>\n",
       "</div>"
      ],
      "text/plain": [
       "       Unnamed: 0       eventid  iyear  imonth  iday approxdate  extended  \\\n",
       "7627         7627  197902140010   1979       2    14        NaN         0   \n",
       "9156         9156  197908270005   1979       8    27        NaN         0   \n",
       "9218         9218  197909090001   1979       9     9        NaN         0   \n",
       "33929       33929  198803270001   1988       3    27        NaN         0   \n",
       "34063       34063  198804100009   1988       4    10        NaN         0   \n",
       "\n",
       "      resolution  country  country_txt  ...  INT_IDEO INT_MISC INT_ANY  \\\n",
       "7627         NaN        4  Afghanistan  ...        -9        1       1   \n",
       "9156         NaN        4  Afghanistan  ...        -9        0      -9   \n",
       "9218         NaN        4  Afghanistan  ...        -9       -9      -9   \n",
       "33929        NaN        4  Afghanistan  ...         1        1       1   \n",
       "34063        NaN        4  Afghanistan  ...        -9        0      -9   \n",
       "\n",
       "      related  day_imprecise  day_recode  full_date  day_of_week  \\\n",
       "7627      NaN              0          14 1979-02-14            2   \n",
       "9156      NaN              0          27 1979-08-27            0   \n",
       "9218      NaN              0           9 1979-09-09            6   \n",
       "33929     NaN              0          27 1988-03-27            6   \n",
       "34063     NaN              0          10 1988-04-10            6   \n",
       "\n",
       "      multiple_groups multiple_attackers  \n",
       "7627                0                  0  \n",
       "9156                0                  0  \n",
       "9218                0                  0  \n",
       "33929               0                  0  \n",
       "34063               0                  0  \n",
       "\n",
       "[5 rows x 142 columns]"
      ]
     },
     "execution_count": 133,
     "metadata": {},
     "output_type": "execute_result"
    }
   ],
   "source": [
    "# the Afghan Mujahideen are a boderline case - they seem to have had some amount of organization during the Soviet invasion\n",
    "afg_generic = [\n",
    "    'Unknown',\n",
    "    'Gunmen',\n",
    "    'Afghan Guerrillas',\n",
    "    'Guerrillas',\n",
    "    'Opposition Group',\n",
    "    'Militants',\n",
    "    'Insurgents',\n",
    "    'Muslim extremists',\n",
    "    'Muslim Militants',\n",
    "    'Islamist extremists',\n",
    "    'Muslim Guerrillas',\n",
    "    'Anti-United States extremists',\n",
    "    'Afghan Rebels',\n",
    "    'Shia Muslim extremists'\n",
    "]\n",
    "\n",
    "afg_test = afg[afg['gname'].isin(afg_generic)]\n",
    "\n",
    "afg_test.head()"
   ]
  },
  {
   "cell_type": "code",
   "execution_count": 134,
   "id": "deluxe-andrews",
   "metadata": {},
   "outputs": [
    {
     "data": {
      "text/plain": [
       "(5269, 142)"
      ]
     },
     "execution_count": 134,
     "metadata": {},
     "output_type": "execute_result"
    }
   ],
   "source": [
    "afg_test.shape"
   ]
  },
  {
   "cell_type": "code",
   "execution_count": 135,
   "id": "technical-manner",
   "metadata": {},
   "outputs": [
    {
     "data": {
      "text/plain": [
       "<AxesSubplot:>"
      ]
     },
     "execution_count": 135,
     "metadata": {},
     "output_type": "execute_result"
    },
    {
     "data": {
      "image/png": "[encoded data removed]",
      "text/plain": [
       "<Figure size 432x288 with 1 Axes>"
      ]
     },
     "metadata": {
      "image/png": {
       "height": 248,
       "width": 381
      },
      "needs_background": "light"
     },
     "output_type": "display_data"
    }
   ],
   "source": [
    "afg_test['iyear'].hist()"
   ]
  },
  {
   "cell_type": "code",
   "execution_count": 136,
   "id": "surgical-scott",
   "metadata": {},
   "outputs": [
    {
     "data": {
      "text/plain": [
       "False    4473\n",
       "True      796\n",
       "Name: iyear, dtype: int64"
      ]
     },
     "execution_count": 136,
     "metadata": {},
     "output_type": "execute_result"
    }
   ],
   "source": [
    "(afg_test['iyear'] > 2016).value_counts()"
   ]
  },
  {
   "cell_type": "markdown",
   "id": "suburban-applicant",
   "metadata": {},
   "source": [
    "There are 796 events that could potentially appear in ACLED, which covers Afghanistan for the period 2017-present. That seems like a reasonable sample size for external validation."
   ]
  },
  {
   "cell_type": "markdown",
   "id": "wireless-latino",
   "metadata": {},
   "source": [
    "# Construct Training and Validation Sets"
   ]
  },
  {
   "cell_type": "code",
   "execution_count": 149,
   "id": "stuck-penguin",
   "metadata": {},
   "outputs": [
    {
     "data": {
      "text/plain": [
       "(9240, 142)"
      ]
     },
     "execution_count": 149,
     "metadata": {},
     "output_type": "execute_result"
    }
   ],
   "source": [
    "# extract Afg events that are not in the generic list\n",
    "afg_X = afg[~(afg['gname'].isin(afg_generic))]\n",
    "\n",
    "afg_X.shape"
   ]
  },
  {
   "cell_type": "markdown",
   "id": "derived-multimedia",
   "metadata": {},
   "source": [
    "### Class Imbalance\n",
    "\n",
    "We have a significant class imbalance problem:"
   ]
  },
  {
   "cell_type": "code",
   "execution_count": 138,
   "id": "incorrect-antigua",
   "metadata": {},
   "outputs": [
    {
     "data": {
      "text/plain": [
       "Taliban                                                                                 8671\n",
       "Khorasan Chapter of the Islamic State                                                    357\n",
       "Haqqani Network                                                                           85\n",
       "Hizb-I-Islami                                                                             42\n",
       "Al-Qaida                                                                                  20\n",
       "Tehrik-i-Taliban Pakistan (TTP)                                                           15\n",
       "Afghan Mujahideen                                                                          7\n",
       "Mahaz Fedai Tahrik Islami Afghanistan                                                      5\n",
       "The Northern Alliance (or United Islamic Front for Salvation of Afghanistan - UIFSA)       5\n",
       "Hezb-e Wahdat-e Islami-yi Afghanistan                                                      5\n",
       "Jamiat-e Islami-yi Afghanistan                                                             3\n",
       "Jaish al-Muslimin (Army of the Muslims)                                                    2\n",
       "Khorasan jihadi group                                                                      2\n",
       "Lashkar-e-Taiba (LeT)                                                                      2\n",
       "Islamic Movement of Uzbekistan (IMU)                                                       2\n",
       "Lashkar-e-Jhangvi                                                                          2\n",
       "Haji Fateh                                                                                 1\n",
       "Jundallah (Pakistan)                                                                       1\n",
       "Gholam Yahya Akbar                                                                         1\n",
       "Shinwari Tribe                                                                             1\n",
       "Al-Fatah                                                                                   1\n",
       "Black December                                                                             1\n",
       "Saif-ul-Muslimeen                                                                          1\n",
       "Najib Watan Party Faction                                                                  1\n",
       "Nahzat e Eslami                                                                            1\n",
       "Ittehad-i-Islami                                                                           1\n",
       "Mahaz-e-Milli Islami Afghanistan                                                           1\n",
       "Harakat-i-Inqilahi-i-Islami                                                                1\n",
       "Mullah Dadullah Front                                                                      1\n",
       "Jaish-e-Mohammad (JeM)                                                                     1\n",
       "Tela Mohammed                                                                              1\n",
       "Name: gname, dtype: int64"
      ]
     },
     "execution_count": 138,
     "metadata": {},
     "output_type": "execute_result"
    }
   ],
   "source": [
    "afg_X['gname'].value_counts()"
   ]
  },
  {
   "cell_type": "markdown",
   "id": "graphic-duncan",
   "metadata": {},
   "source": [
    "Let's start by simply combining the smallest categories"
   ]
  },
  {
   "cell_type": "code",
   "execution_count": 150,
   "id": "responsible-navigation",
   "metadata": {},
   "outputs": [],
   "source": [
    "# another warning about chained selection\n",
    "afx2 = afg_X.copy()\n",
    "afx2['gsize'] = afx2.groupby('gname')['eventid'].transform(np.size)\n",
    "afg_X = afx2.copy()"
   ]
  },
  {
   "cell_type": "code",
   "execution_count": 175,
   "id": "parallel-column",
   "metadata": {},
   "outputs": [
    {
     "data": {
      "text/plain": [
       "Taliban                                                                                 8671\n",
       "Khorasan Chapter of the Islamic State                                                    357\n",
       "Haqqani Network                                                                           85\n",
       "Hizb-I-Islami                                                                             42\n",
       "Smaller_group                                                                             28\n",
       "Al-Qaida                                                                                  20\n",
       "Tehrik-i-Taliban Pakistan (TTP)                                                           15\n",
       "Afghan Mujahideen                                                                          7\n",
       "Hezb-e Wahdat-e Islami-yi Afghanistan                                                      5\n",
       "The Northern Alliance (or United Islamic Front for Salvation of Afghanistan - UIFSA)       5\n",
       "Mahaz Fedai Tahrik Islami Afghanistan                                                      5\n",
       "Name: gname_recode, dtype: int64"
      ]
     },
     "execution_count": 175,
     "metadata": {},
     "output_type": "execute_result"
    }
   ],
   "source": [
    "afg_X['gname_recode'] = np.where(afg_X['gsize'] < 5, 'Smaller_group', afg_X['gname'])\n",
    "\n",
    "afg_X['gname_recode'].value_counts()"
   ]
  },
  {
   "cell_type": "code",
   "execution_count": 201,
   "id": "diagnostic-thompson",
   "metadata": {},
   "outputs": [],
   "source": [
    "# shortern NA name\n",
    "afg_X['gname_recode'] = afg_X['gname_recode'].replace('The Northern Alliance (or United Islamic Front for Salvation of Afghanistan - UIFSA)', 'Northern Alliance')"
   ]
  },
  {
   "cell_type": "markdown",
   "id": "agreed-smell",
   "metadata": {},
   "source": [
    "# Basic RF Model"
   ]
  },
  {
   "cell_type": "code",
   "execution_count": 217,
   "id": "level-party",
   "metadata": {},
   "outputs": [],
   "source": [
    "from sklearn.model_selection import train_test_split\n",
    "from sklearn.pipeline import Pipeline\n",
    "from sklearn.preprocessing import OneHotEncoder\n",
    "from sklearn.preprocessing import StandardScaler\n",
    "from sklearn.compose import ColumnTransformer\n",
    "from sklearn.impute import SimpleImputer\n",
    "from sklearn.impute import KNNImputer\n",
    "from sklearn.ensemble import RandomForestClassifier\n",
    "from sklearn import metrics"
   ]
  },
  {
   "cell_type": "code",
   "execution_count": 202,
   "id": "offensive-climb",
   "metadata": {},
   "outputs": [],
   "source": [
    "keep_cols = cont_predictors + cat_predictors\n",
    "\n",
    "X = afg_X[keep_cols].copy()\n",
    "\n",
    "y = afg_X['gname_recode']\n",
    "\n",
    "X_train, X_test, y_train, y_test = train_test_split(X, y, random_state=0)"
   ]
  },
  {
   "cell_type": "code",
   "execution_count": 203,
   "id": "vocational-consolidation",
   "metadata": {},
   "outputs": [
    {
     "data": {
      "text/plain": [
       "0.9675324675324676"
      ]
     },
     "execution_count": 203,
     "metadata": {},
     "output_type": "execute_result"
    }
   ],
   "source": [
    "# pipeline\n",
    "\n",
    "numerical_transformer = Pipeline(steps=[\n",
    "    ('imputer', KNNImputer(n_neighbors=2, weights=\"uniform\")),\n",
    "    ('standardscaler', StandardScaler()) \n",
    "])\n",
    "\n",
    "\n",
    "# Preprocessing for categorical data\n",
    "categorical_transformer = Pipeline(steps=[\n",
    "    ('imputer', SimpleImputer(strategy='most_frequent')),\n",
    "    ('onehot', OneHotEncoder(handle_unknown='ignore'))\n",
    "])\n",
    "\n",
    "# Bundle preprocessing for numerical and categorical data\n",
    "preprocessor = ColumnTransformer(\n",
    "    transformers=[\n",
    "        ('num', numerical_transformer, cont_predictors),\n",
    "        ('cat', categorical_transformer, cat_predictors)\n",
    "    ])\n",
    "\n",
    "#models\n",
    "RF = RandomForestClassifier(n_estimators=100, random_state=0)\n",
    "\n",
    "RF_pipe = Pipeline(steps=[('preprocessor', preprocessor),\n",
    "                      ('model', RF)\n",
    "                     ])\n",
    "\n",
    "RF_pipe.fit(X_train, y_train)\n",
    "\n",
    "metrics.accuracy_score(RF_pipe.predict(X_test), y_test)"
   ]
  },
  {
   "cell_type": "markdown",
   "id": "polished-matrix",
   "metadata": {},
   "source": [
    "96.8% prediction accuracy seems great at first glance, but this is not always a revealing metric for imbalanced classes. Let's look at the confusion matrix:"
   ]
  },
  {
   "cell_type": "code",
   "execution_count": 204,
   "id": "printable-stockholm",
   "metadata": {},
   "outputs": [
    {
     "data": {
      "text/plain": [
       "<sklearn.metrics._plot.confusion_matrix.ConfusionMatrixDisplay at 0x7fd6ba040dc0>"
      ]
     },
     "execution_count": 204,
     "metadata": {},
     "output_type": "execute_result"
    },
    {
     "data": {
      "image/png": "[encoded data removed]",
      "text/plain": [
       "<Figure size 432x288 with 2 Axes>"
      ]
     },
     "metadata": {
      "image/png": {
       "height": 446,
       "width": 506
      },
      "needs_background": "light"
     },
     "output_type": "display_data"
    }
   ],
   "source": [
    "metrics.plot_confusion_matrix(RF_pipe, X_test, y_test, labels=RF_pipe.classes_, xticks_rotation='vertical')"
   ]
  },
  {
   "cell_type": "markdown",
   "id": "invalid-violation",
   "metadata": {},
   "source": [
    "Here the picture isn't so rosy. The model is predicting 'Taliban' in the vast majority of cases. This results in a number of false positives that are actually Khorasan, Haqqani, or other attacks. Most of the cases where it predicts something other than 'Taliban' are correct, except for 5 cases that were predicted as Khorasan but were actually Taliban."
   ]
  },
  {
   "cell_type": "code",
   "execution_count": 187,
   "id": "threatened-calcium",
   "metadata": {},
   "outputs": [
    {
     "data": {
      "text/plain": [
       "0.5231647001511011"
      ]
     },
     "execution_count": 187,
     "metadata": {},
     "output_type": "execute_result"
    }
   ],
   "source": [
    "metrics.cohen_kappa_score(RF_pipe.predict(X_test), y_test)"
   ]
  },
  {
   "cell_type": "markdown",
   "id": "radio-friday",
   "metadata": {},
   "source": [
    "Cohen's Kappa compares actual accuracy against what would be expected by random chance. 1 = perfect concurrence between predicted and actual, 0=no concurrence. Scores ranging from 0.3 to 0.5 can be considered to show 'reasonable agreement' (Kuhn and Johnson: 256). Thus, this result is good but not amazing."
   ]
  },
  {
   "cell_type": "code",
   "execution_count": 209,
   "id": "korean-modern",
   "metadata": {},
   "outputs": [
    {
     "name": "stderr",
     "output_type": "stream",
     "text": [
      "/Users/david/gtd_classifier/gtd_env/lib/python3.8/site-packages/sklearn/metrics/_classification.py:1464: UndefinedMetricWarning: F-score is ill-defined and being set to 0.0 in labels with no true nor predicted samples. Use `zero_division` parameter to control this behavior.\n",
      "  _warn_prf(\n"
     ]
    },
    {
     "data": {
      "text/plain": [
       "0.9590747139650676"
      ]
     },
     "execution_count": 209,
     "metadata": {},
     "output_type": "execute_result"
    }
   ],
   "source": [
    "metrics.f1_score(y_test, RF_pipe.predict(X_test), labels=RF_pipe.classes_, average='weighted')"
   ]
  },
  {
   "cell_type": "markdown",
   "id": "republican-limit",
   "metadata": {},
   "source": [
    "`F1 = 2 * (precision * recall) / (precision + recall)` (Scikit-Learn docs). Remember that precision = prop. of positive predictions that are actually positive `true positives / (true positives + false positives)` and recall = prop. of positive cases that are correctly predicted `true positives / (true positives + false negatives)`. F1 combines these into a single metric with 1 = perfect prediction. The `averge='weighted'` parameter upweights smaller classes. A score of 0.959 thus seems pretty good, but let's look at the numbers for each class:"
   ]
  },
  {
   "cell_type": "code",
   "execution_count": 216,
   "id": "systematic-florist",
   "metadata": {},
   "outputs": [
    {
     "name": "stdout",
     "output_type": "stream",
     "text": [
      "                                       precision    recall  f1-score   support\n",
      "\n",
      "                    Afghan Mujahideen       0.00      0.00      0.00         2\n",
      "                             Al-Qaida       0.00      0.00      0.00         4\n",
      "                      Haqqani Network       1.00      0.20      0.33        15\n",
      "Hezb-e Wahdat-e Islami-yi Afghanistan       1.00      1.00      1.00         1\n",
      "                        Hizb-I-Islami       1.00      0.09      0.17        11\n",
      "Khorasan Chapter of the Islamic State       0.88      0.53      0.66        72\n",
      "Mahaz Fedai Tahrik Islami Afghanistan       0.00      0.00      0.00         0\n",
      "                    Northern Alliance       0.00      0.00      0.00         3\n",
      "                        Smaller_group       0.00      0.00      0.00         5\n",
      "                              Taliban       0.97      1.00      0.98      2197\n",
      "      Tehrik-i-Taliban Pakistan (TTP)       0.00      0.00      0.00         0\n",
      "\n",
      "                            micro avg       0.97      0.97      0.97      2310\n",
      "                            macro avg       0.44      0.26      0.29      2310\n",
      "                         weighted avg       0.96      0.97      0.96      2310\n",
      "\n"
     ]
    }
   ],
   "source": [
    "print(metrics.classification_report(y_test, RF_pipe.predict(X_test), labels=RF_pipe.classes_, zero_division=0))"
   ]
  },
  {
   "cell_type": "code",
   "execution_count": 218,
   "id": "derived-potter",
   "metadata": {},
   "outputs": [],
   "source": [
    "import eli5"
   ]
  },
  {
   "cell_type": "markdown",
   "id": "plastic-cradle",
   "metadata": {},
   "source": [
    "Overall this first cut at a model isn't horrible - it doesn't predict the largest class every time - but it has room for improvement for the smaller classes. While it is conceivable that hyperparameter tuning would fix these problems, I will start by addressing the class imbalance."
   ]
  },
  {
   "cell_type": "markdown",
   "id": "returning-attribute",
   "metadata": {},
   "source": [
    "# Addressing Class Imbalance"
   ]
  },
  {
   "cell_type": "markdown",
   "id": "dressed-article",
   "metadata": {},
   "source": [
    "Potential solutions include (https://machinelearningmastery.com/tactics-to-combat-imbalanced-classes-in-your-machine-learning-dataset/)\n",
    "- Change evaluation metric \n",
    "    - confusion matrix\n",
    "    - precision\n",
    "    - recall\n",
    "    - F1 score - weighted avg of precision + recall\n",
    "    - Cohen's Kappa - classification accuracy normalized by imbalance\n",
    "    - ROC curves - sensitivity vs. specificity\n",
    "- Upsample smaller classes\n",
    "- Synthetic Minority Oversampling Technique (SMOTE) - creates synthetic copies of minority class members with perturbations in attributes\n",
    "- Penalize algorithm for missclassification of minority classes\n",
    "- Treat as anomaly or change detection problem"
   ]
  },
  {
   "cell_type": "code",
   "execution_count": null,
   "id": "regional-defensive",
   "metadata": {},
   "outputs": [],
   "source": []
  }
 ],
 "metadata": {
  "kernelspec": {
   "display_name": "Python 3",
   "language": "python",
   "name": "python3"
  },
  "language_info": {
   "codemirror_mode": {
    "name": "ipython",
    "version": 3
   },
   "file_extension": ".py",
   "mimetype": "text/x-python",
   "name": "python",
   "nbconvert_exporter": "python",
   "pygments_lexer": "ipython3",
   "version": "3.8.5"
  },
  "toc-autonumbering": false,
  "toc-showcode": false,
  "toc-showmarkdowntxt": false,
  "varInspector": {
   "cols": {
    "lenName": 16,
    "lenType": 16,
    "lenVar": 40
   },
   "kernels_config": {
    "python": {
     "delete_cmd_postfix": "",
     "delete_cmd_prefix": "del ",
     "library": "var_list.py",
     "varRefreshCmd": "print(var_dic_list())"
    },
    "r": {
     "delete_cmd_postfix": ") ",
     "delete_cmd_prefix": "rm(",
     "library": "var_list.r",
     "varRefreshCmd": "cat(var_dic_list()) "
    }
   },
   "types_to_exclude": [
    "module",
    "function",
    "builtin_function_or_method",
    "instance",
    "_Feature"
   ],
   "window_display": false
  }
 },
 "nbformat": 4,
 "nbformat_minor": 5
}
